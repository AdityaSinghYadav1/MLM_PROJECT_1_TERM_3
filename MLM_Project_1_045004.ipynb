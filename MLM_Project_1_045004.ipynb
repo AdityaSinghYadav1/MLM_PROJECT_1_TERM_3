{
  "cells": [
    {
      "cell_type": "markdown",
      "source": [
        "**PROJECT :** **E-COMMERCE CUSTOMER ANALYSIS**"
      ],
      "metadata": {
        "id": "0h_EzWkqZ2MX"
      }
    },
    {
      "cell_type": "markdown",
      "source": [
        "**SUBMITTED BY - ADITYA SINGH YADAV**"
      ],
      "metadata": {
        "id": "f6qPQQaiZ2Op"
      }
    },
    {
      "cell_type": "markdown",
      "source": [
        "**OBJECTIVES**"
      ],
      "metadata": {
        "id": "_l3y09CdZ2Rq"
      }
    },
    {
      "cell_type": "markdown",
      "source": [
        "1. Appropriate number of clusters using K-means\n",
        "2. Analyze cluster composition to understand different e-commerce customer segments and their behaviors.\n",
        "3.Develop actionable insights and recommendations based on the identified customer segments to improve marketing strategies, customer engagement, and overall business performance."
      ],
      "metadata": {
        "id": "Ik7XNu6QZ2fp"
      }
    },
    {
      "cell_type": "markdown",
      "source": [
        "**DATA DESCRIPTION**"
      ],
      "metadata": {
        "id": "kdwKEc4babw3"
      }
    },
    {
      "cell_type": "markdown",
      "source": [
        "**Dataset Shape - (59998, 8)**\n",
        "\n",
        "**Dataset Size - 5 mb**\n",
        "\n",
        "**Source - Kaggle(https://www.kaggle.com/code/tyatsenk/k-means-e-commerce-customer#3.-Data-Preprocessing)**\n",
        "\n",
        "\n",
        "\n",
        "\n"
      ],
      "metadata": {
        "id": "xXKZSmjhaby-"
      }
    },
    {
      "cell_type": "markdown",
      "source": [
        "**DATA BIFURCATION**\n",
        "\n",
        "**Categorical Variables:**\n",
        "\n",
        "Nominal Categories:\n",
        "\n",
        "1.Country\n",
        "\n",
        "2.StockCode\n",
        "\n",
        "**Ordinal Categories:**\n",
        "\n",
        "1.InvoiceDate\n",
        "\n",
        "**Non-Categorical Variables:**\n",
        "\n",
        "1.Quantity\n",
        "\n",
        "2.UnitPrice"
      ],
      "metadata": {
        "id": "6SOprLzMab12"
      }
    },
    {
      "cell_type": "markdown",
      "source": [
        "**Descriptive Statistics: Categorical Variables**\n",
        "\n",
        "**Count | Frequency Statistics**\n",
        "\n",
        "1. InvoiceNo:\n",
        "\n",
        "Count: 59998\n",
        "\n",
        "Frequency: 675\n",
        "\n",
        "2. StockCode:\n",
        "\n",
        "Count: 59998\n",
        "\n",
        "Frequency: 335\n",
        "\n",
        "3. Country:\n",
        "\n",
        "Count: 59998\n",
        "\n",
        "Frequency: 56112\n",
        "\n",
        "**Descriptive Statistics: Non-Categorical Variables**\n",
        "\n",
        "**Measures of Central Tendency**\n",
        "\n",
        "1. Quantity:\n",
        "\n",
        "Mean: 8.502967\n",
        "\n",
        "Median: 2.000000\n",
        "\n",
        "2. UnitPrice:\n",
        "\n",
        "Mean: 5.989186\n",
        "\n",
        "Median: 2.510000\n",
        "\n",
        "**Measures of Dispersion**\n",
        "\n",
        "1. Quantity:\n",
        "\n",
        "Standard Deviation: 56.746866\n",
        "\n",
        "2. UnitPrice:\n",
        "\n",
        "Standard Deviation: 152.109427"
      ],
      "metadata": {
        "id": "xXdeMnRnab4d"
      }
    },
    {
      "cell_type": "markdown",
      "source": [
        "**DATA PREPROCESSING**"
      ],
      "metadata": {
        "id": "bL1nKxvyab7E"
      }
    },
    {
      "cell_type": "markdown",
      "source": [
        "**MISSING DATA STATISTICS AND TREATMENT**"
      ],
      "metadata": {
        "id": "BJmRaPXqab9r"
      }
    },
    {
      "cell_type": "markdown",
      "source": [
        "**Missing Data Statistics: Categorical Variables or Features**\n",
        "\n",
        "1. Description: 161 missing values\n",
        "\n",
        "2. CustomerID: 21949 missing values\n",
        "\n",
        "3. CustomerID column has the highest proportion of missing values, accounting for approximately 36.58% of the total rows. Hence, no outliers were removed as missing data was less than 50%"
      ],
      "metadata": {
        "id": "FuYxgRByiIyv"
      }
    },
    {
      "cell_type": "markdown",
      "source": [
        "**OBSERVATIONS**"
      ],
      "metadata": {
        "id": "62mLz1JEiI1b"
      }
    },
    {
      "cell_type": "markdown",
      "source": [
        "1. The Silhouette score for the 3-cluster model is the highest, being 0.38728, while the Davies-Bouldin score for the same model has the lowest value at 0.87456. These scores suggest better clustering cohesion and separation compared to models with 4 and 5 clusters. Therefore, the analysis suggests that the 3-cluster model might be the most appropriate choice, indicating better cluster quality and separation.\n",
        "\n",
        "2. Peak Memory: peak memory usage was observed to be 754.09 MB.\n",
        "\n",
        "3. Wall Time: The wall time reflects the total elapsed time from the start to the end of the task, encompassing all aspects of processing, including CPU execution time, as well as any additional time taken for input/output operations or other external factors. Here, the wall time was measured at 8.34 microseconds (µs).\n",
        "\n",
        "4. ANOVA Analysis: - The calculated F-statistic was found to be 14.38 and p-value of 0.000149 was obtained. Based on the results of the ANOVA test, we reject the null hypothesis. This p-value is below the conventional significance level of 0.05, indicating strong evidence against the null hypothesis. This concludes that at least one of the means in the dataset is different from the others.\n",
        "\n",
        "5. Chi-Square Test Analysis - The calculated Chi-square statistic was found to be 1379624.05. The obtained p-value was approximately 7.24e-97, which is exceedingly smaller than the conventional significance level of 0.05. This indicates overwhelming evidence against the null hypothesis.Based on the Chi-square test results, we reject the null hypothesis. The exceptionally low p-value suggests strong evidence of association between the variables under consideration."
      ],
      "metadata": {
        "id": "ylMtip4uiI4B"
      }
    },
    {
      "cell_type": "markdown",
      "source": [
        "**MANAGERIAL IMPLICATIONS**"
      ],
      "metadata": {
        "id": "SUpr-dfhiI6o"
      }
    },
    {
      "cell_type": "markdown",
      "source": [
        "1. Cluster Analysis: The analysis suggests that the 3-cluster model offers the best cohesion and separation among customer segments compared to models with 4 and 5 clusters. Utilizing this model can help unveil distinct customer groups or behaviors, enabling targeted marketing strategies, personalized services, and tailored product offerings to enhance customer satisfaction and retention.\n",
        "2. Memory Usage: The peak memory usage of 754.09 MB highlights the computational resource demands. Managers need to ensure adequate memory resources for similar analyses in the future. Exploring optimization techniques or employing memory-efficient algorithms can help mitigate memory constraints and enhance computational efficiency.\n",
        "3. Wall Time: With a wall time of 8.34 microseconds, the analysis demonstrates efficient computational processing. Managers can use this information to estimate the time required for similar analyses and allocate resources accordingly. Efforts should be made to optimize processes and reduce execution time for enhanced efficiency.\n",
        "4. ANOVA Analysis: The ANOVA test indicates significant differences in the means of examined variables. Managers should consider these findings when making decisions regarding product development, pricing strategies, or process enhancements. Understanding the factors driving these differences can offer valuable insights for improvement and optimization, leading to enhanced business performance.\n",
        "5. Chi-Square Test Analysis: The Chi-square test reveals a strong association between the examined variables. Managers should delve into this association to uncover underlying patterns or dependencies. These insights can inform decision-making processes such as resource allocation, market segmentation, or product positioning, ultimately fostering business growth and profitability.\n"
      ],
      "metadata": {
        "id": "0_9F68sNiJA8"
      }
    },
    {
      "cell_type": "code",
      "source": [
        "import pandas as pd, numpy as np # For Data Manipulation\n",
        "from sklearn.preprocessing import LabelEncoder, OrdinalEncoder # For Encoding Categorical Data [Nominal | Ordinal]\n",
        "from sklearn.preprocessing import OneHotEncoder # For Creating Dummy Variables of Categorical Data [Nominal]\n",
        "from sklearn.impute import SimpleImputer, KNNImputer # For Imputation of Missing Data\n",
        "from sklearn.preprocessing import StandardScaler, MinMaxScaler, RobustScaler # For Rescaling Data\n",
        "from sklearn.model_selection import train_test_split # For Splitting Data into Training & Testing Sets"
      ],
      "metadata": {
        "id": "iwBktIZKSsxl"
      },
      "execution_count": 96,
      "outputs": []
    },
    {
      "cell_type": "code",
      "execution_count": null,
      "metadata": {
        "id": "q-ztPU4aBQ0T"
      },
      "outputs": [],
      "source": [
        "df = pd.read_csv('E-commerce-Data-updated_1.csv',encoding='unicode_escape')\n"
      ]
    },
    {
      "cell_type": "code",
      "execution_count": null,
      "metadata": {
        "colab": {
          "base_uri": "https://localhost:8080/",
          "height": 111
        },
        "id": "oOaMMpUWES_l",
        "outputId": "48925d3f-4890-4067-a6bf-1d73eed9e4a9"
      },
      "outputs": [
        {
          "output_type": "execute_result",
          "data": {
            "text/plain": [
              "  InvoiceNo StockCode                         Description  Quantity  \\\n",
              "0    536365    85123A  WHITE HANGING HEART T-LIGHT HOLDER         6   \n",
              "1    536365     71053                 WHITE METAL LANTERN         6   \n",
              "\n",
              "      InvoiceDate  UnitPrice  CustomerID         Country  \n",
              "0  12/1/2010 8:26       2.55     17850.0  United Kingdom  \n",
              "1  12/1/2010 8:26       3.39     17850.0  United Kingdom  "
            ],
            "text/html": [
              "\n",
              "  <div id=\"df-82123af1-1390-49d4-9831-90f62f8b826f\" class=\"colab-df-container\">\n",
              "    <div>\n",
              "<style scoped>\n",
              "    .dataframe tbody tr th:only-of-type {\n",
              "        vertical-align: middle;\n",
              "    }\n",
              "\n",
              "    .dataframe tbody tr th {\n",
              "        vertical-align: top;\n",
              "    }\n",
              "\n",
              "    .dataframe thead th {\n",
              "        text-align: right;\n",
              "    }\n",
              "</style>\n",
              "<table border=\"1\" class=\"dataframe\">\n",
              "  <thead>\n",
              "    <tr style=\"text-align: right;\">\n",
              "      <th></th>\n",
              "      <th>InvoiceNo</th>\n",
              "      <th>StockCode</th>\n",
              "      <th>Description</th>\n",
              "      <th>Quantity</th>\n",
              "      <th>InvoiceDate</th>\n",
              "      <th>UnitPrice</th>\n",
              "      <th>CustomerID</th>\n",
              "      <th>Country</th>\n",
              "    </tr>\n",
              "  </thead>\n",
              "  <tbody>\n",
              "    <tr>\n",
              "      <th>0</th>\n",
              "      <td>536365</td>\n",
              "      <td>85123A</td>\n",
              "      <td>WHITE HANGING HEART T-LIGHT HOLDER</td>\n",
              "      <td>6</td>\n",
              "      <td>12/1/2010 8:26</td>\n",
              "      <td>2.55</td>\n",
              "      <td>17850.0</td>\n",
              "      <td>United Kingdom</td>\n",
              "    </tr>\n",
              "    <tr>\n",
              "      <th>1</th>\n",
              "      <td>536365</td>\n",
              "      <td>71053</td>\n",
              "      <td>WHITE METAL LANTERN</td>\n",
              "      <td>6</td>\n",
              "      <td>12/1/2010 8:26</td>\n",
              "      <td>3.39</td>\n",
              "      <td>17850.0</td>\n",
              "      <td>United Kingdom</td>\n",
              "    </tr>\n",
              "  </tbody>\n",
              "</table>\n",
              "</div>\n",
              "    <div class=\"colab-df-buttons\">\n",
              "\n",
              "  <div class=\"colab-df-container\">\n",
              "    <button class=\"colab-df-convert\" onclick=\"convertToInteractive('df-82123af1-1390-49d4-9831-90f62f8b826f')\"\n",
              "            title=\"Convert this dataframe to an interactive table.\"\n",
              "            style=\"display:none;\">\n",
              "\n",
              "  <svg xmlns=\"http://www.w3.org/2000/svg\" height=\"24px\" viewBox=\"0 -960 960 960\">\n",
              "    <path d=\"M120-120v-720h720v720H120Zm60-500h600v-160H180v160Zm220 220h160v-160H400v160Zm0 220h160v-160H400v160ZM180-400h160v-160H180v160Zm440 0h160v-160H620v160ZM180-180h160v-160H180v160Zm440 0h160v-160H620v160Z\"/>\n",
              "  </svg>\n",
              "    </button>\n",
              "\n",
              "  <style>\n",
              "    .colab-df-container {\n",
              "      display:flex;\n",
              "      gap: 12px;\n",
              "    }\n",
              "\n",
              "    .colab-df-convert {\n",
              "      background-color: #E8F0FE;\n",
              "      border: none;\n",
              "      border-radius: 50%;\n",
              "      cursor: pointer;\n",
              "      display: none;\n",
              "      fill: #1967D2;\n",
              "      height: 32px;\n",
              "      padding: 0 0 0 0;\n",
              "      width: 32px;\n",
              "    }\n",
              "\n",
              "    .colab-df-convert:hover {\n",
              "      background-color: #E2EBFA;\n",
              "      box-shadow: 0px 1px 2px rgba(60, 64, 67, 0.3), 0px 1px 3px 1px rgba(60, 64, 67, 0.15);\n",
              "      fill: #174EA6;\n",
              "    }\n",
              "\n",
              "    .colab-df-buttons div {\n",
              "      margin-bottom: 4px;\n",
              "    }\n",
              "\n",
              "    [theme=dark] .colab-df-convert {\n",
              "      background-color: #3B4455;\n",
              "      fill: #D2E3FC;\n",
              "    }\n",
              "\n",
              "    [theme=dark] .colab-df-convert:hover {\n",
              "      background-color: #434B5C;\n",
              "      box-shadow: 0px 1px 3px 1px rgba(0, 0, 0, 0.15);\n",
              "      filter: drop-shadow(0px 1px 2px rgba(0, 0, 0, 0.3));\n",
              "      fill: #FFFFFF;\n",
              "    }\n",
              "  </style>\n",
              "\n",
              "    <script>\n",
              "      const buttonEl =\n",
              "        document.querySelector('#df-82123af1-1390-49d4-9831-90f62f8b826f button.colab-df-convert');\n",
              "      buttonEl.style.display =\n",
              "        google.colab.kernel.accessAllowed ? 'block' : 'none';\n",
              "\n",
              "      async function convertToInteractive(key) {\n",
              "        const element = document.querySelector('#df-82123af1-1390-49d4-9831-90f62f8b826f');\n",
              "        const dataTable =\n",
              "          await google.colab.kernel.invokeFunction('convertToInteractive',\n",
              "                                                    [key], {});\n",
              "        if (!dataTable) return;\n",
              "\n",
              "        const docLinkHtml = 'Like what you see? Visit the ' +\n",
              "          '<a target=\"_blank\" href=https://colab.research.google.com/notebooks/data_table.ipynb>data table notebook</a>'\n",
              "          + ' to learn more about interactive tables.';\n",
              "        element.innerHTML = '';\n",
              "        dataTable['output_type'] = 'display_data';\n",
              "        await google.colab.output.renderOutput(dataTable, element);\n",
              "        const docLink = document.createElement('div');\n",
              "        docLink.innerHTML = docLinkHtml;\n",
              "        element.appendChild(docLink);\n",
              "      }\n",
              "    </script>\n",
              "  </div>\n",
              "\n",
              "\n",
              "<div id=\"df-e29a1fb5-4bcb-4e19-949a-405247fabcc6\">\n",
              "  <button class=\"colab-df-quickchart\" onclick=\"quickchart('df-e29a1fb5-4bcb-4e19-949a-405247fabcc6')\"\n",
              "            title=\"Suggest charts\"\n",
              "            style=\"display:none;\">\n",
              "\n",
              "<svg xmlns=\"http://www.w3.org/2000/svg\" height=\"24px\"viewBox=\"0 0 24 24\"\n",
              "     width=\"24px\">\n",
              "    <g>\n",
              "        <path d=\"M19 3H5c-1.1 0-2 .9-2 2v14c0 1.1.9 2 2 2h14c1.1 0 2-.9 2-2V5c0-1.1-.9-2-2-2zM9 17H7v-7h2v7zm4 0h-2V7h2v10zm4 0h-2v-4h2v4z\"/>\n",
              "    </g>\n",
              "</svg>\n",
              "  </button>\n",
              "\n",
              "<style>\n",
              "  .colab-df-quickchart {\n",
              "      --bg-color: #E8F0FE;\n",
              "      --fill-color: #1967D2;\n",
              "      --hover-bg-color: #E2EBFA;\n",
              "      --hover-fill-color: #174EA6;\n",
              "      --disabled-fill-color: #AAA;\n",
              "      --disabled-bg-color: #DDD;\n",
              "  }\n",
              "\n",
              "  [theme=dark] .colab-df-quickchart {\n",
              "      --bg-color: #3B4455;\n",
              "      --fill-color: #D2E3FC;\n",
              "      --hover-bg-color: #434B5C;\n",
              "      --hover-fill-color: #FFFFFF;\n",
              "      --disabled-bg-color: #3B4455;\n",
              "      --disabled-fill-color: #666;\n",
              "  }\n",
              "\n",
              "  .colab-df-quickchart {\n",
              "    background-color: var(--bg-color);\n",
              "    border: none;\n",
              "    border-radius: 50%;\n",
              "    cursor: pointer;\n",
              "    display: none;\n",
              "    fill: var(--fill-color);\n",
              "    height: 32px;\n",
              "    padding: 0;\n",
              "    width: 32px;\n",
              "  }\n",
              "\n",
              "  .colab-df-quickchart:hover {\n",
              "    background-color: var(--hover-bg-color);\n",
              "    box-shadow: 0 1px 2px rgba(60, 64, 67, 0.3), 0 1px 3px 1px rgba(60, 64, 67, 0.15);\n",
              "    fill: var(--button-hover-fill-color);\n",
              "  }\n",
              "\n",
              "  .colab-df-quickchart-complete:disabled,\n",
              "  .colab-df-quickchart-complete:disabled:hover {\n",
              "    background-color: var(--disabled-bg-color);\n",
              "    fill: var(--disabled-fill-color);\n",
              "    box-shadow: none;\n",
              "  }\n",
              "\n",
              "  .colab-df-spinner {\n",
              "    border: 2px solid var(--fill-color);\n",
              "    border-color: transparent;\n",
              "    border-bottom-color: var(--fill-color);\n",
              "    animation:\n",
              "      spin 1s steps(1) infinite;\n",
              "  }\n",
              "\n",
              "  @keyframes spin {\n",
              "    0% {\n",
              "      border-color: transparent;\n",
              "      border-bottom-color: var(--fill-color);\n",
              "      border-left-color: var(--fill-color);\n",
              "    }\n",
              "    20% {\n",
              "      border-color: transparent;\n",
              "      border-left-color: var(--fill-color);\n",
              "      border-top-color: var(--fill-color);\n",
              "    }\n",
              "    30% {\n",
              "      border-color: transparent;\n",
              "      border-left-color: var(--fill-color);\n",
              "      border-top-color: var(--fill-color);\n",
              "      border-right-color: var(--fill-color);\n",
              "    }\n",
              "    40% {\n",
              "      border-color: transparent;\n",
              "      border-right-color: var(--fill-color);\n",
              "      border-top-color: var(--fill-color);\n",
              "    }\n",
              "    60% {\n",
              "      border-color: transparent;\n",
              "      border-right-color: var(--fill-color);\n",
              "    }\n",
              "    80% {\n",
              "      border-color: transparent;\n",
              "      border-right-color: var(--fill-color);\n",
              "      border-bottom-color: var(--fill-color);\n",
              "    }\n",
              "    90% {\n",
              "      border-color: transparent;\n",
              "      border-bottom-color: var(--fill-color);\n",
              "    }\n",
              "  }\n",
              "</style>\n",
              "\n",
              "  <script>\n",
              "    async function quickchart(key) {\n",
              "      const quickchartButtonEl =\n",
              "        document.querySelector('#' + key + ' button');\n",
              "      quickchartButtonEl.disabled = true;  // To prevent multiple clicks.\n",
              "      quickchartButtonEl.classList.add('colab-df-spinner');\n",
              "      try {\n",
              "        const charts = await google.colab.kernel.invokeFunction(\n",
              "            'suggestCharts', [key], {});\n",
              "      } catch (error) {\n",
              "        console.error('Error during call to suggestCharts:', error);\n",
              "      }\n",
              "      quickchartButtonEl.classList.remove('colab-df-spinner');\n",
              "      quickchartButtonEl.classList.add('colab-df-quickchart-complete');\n",
              "    }\n",
              "    (() => {\n",
              "      let quickchartButtonEl =\n",
              "        document.querySelector('#df-e29a1fb5-4bcb-4e19-949a-405247fabcc6 button');\n",
              "      quickchartButtonEl.style.display =\n",
              "        google.colab.kernel.accessAllowed ? 'block' : 'none';\n",
              "    })();\n",
              "  </script>\n",
              "</div>\n",
              "    </div>\n",
              "  </div>\n"
            ],
            "application/vnd.google.colaboratory.intrinsic+json": {
              "type": "dataframe",
              "variable_name": "df",
              "summary": "{\n  \"name\": \"df\",\n  \"rows\": 59998,\n  \"fields\": [\n    {\n      \"column\": \"InvoiceNo\",\n      \"properties\": {\n        \"dtype\": \"category\",\n        \"num_unique_values\": 2740,\n        \"samples\": [\n          \"536983\",\n          \"537011\",\n          \"538657\"\n        ],\n        \"semantic_type\": \"\",\n        \"description\": \"\"\n      }\n    },\n    {\n      \"column\": \"StockCode\",\n      \"properties\": {\n        \"dtype\": \"category\",\n        \"num_unique_values\": 2950,\n        \"samples\": [\n          \"21922\",\n          \"22441\",\n          \"16169P\"\n        ],\n        \"semantic_type\": \"\",\n        \"description\": \"\"\n      }\n    },\n    {\n      \"column\": \"Description\",\n      \"properties\": {\n        \"dtype\": \"category\",\n        \"num_unique_values\": 2889,\n        \"samples\": [\n          \"SMALL CHINESE STYLE SCISSOR\",\n          \"RIBBON REEL LACE DESIGN \",\n          \"FIRE POLISHED GLASS BRACELET MONTAN\"\n        ],\n        \"semantic_type\": \"\",\n        \"description\": \"\"\n      }\n    },\n    {\n      \"column\": \"Quantity\",\n      \"properties\": {\n        \"dtype\": \"number\",\n        \"std\": 56,\n        \"min\": -9360,\n        \"max\": 3114,\n        \"num_unique_values\": 241,\n        \"samples\": [\n          192,\n          24,\n          1356\n        ],\n        \"semantic_type\": \"\",\n        \"description\": \"\"\n      }\n    },\n    {\n      \"column\": \"InvoiceDate\",\n      \"properties\": {\n        \"dtype\": \"object\",\n        \"num_unique_values\": 2435,\n        \"samples\": [\n          \"1/10/2011 15:35\",\n          \"12/10/2010 13:29\",\n          \"12/17/2010 13:39\"\n        ],\n        \"semantic_type\": \"\",\n        \"description\": \"\"\n      }\n    },\n    {\n      \"column\": \"UnitPrice\",\n      \"properties\": {\n        \"dtype\": \"number\",\n        \"std\": 152.10942723830385,\n        \"min\": 0.0,\n        \"max\": 16888.02,\n        \"num_unique_values\": 394,\n        \"samples\": [\n          5.06,\n          164.55,\n          26.93\n        ],\n        \"semantic_type\": \"\",\n        \"description\": \"\"\n      }\n    },\n    {\n      \"column\": \"CustomerID\",\n      \"properties\": {\n        \"dtype\": \"number\",\n        \"std\": 1761.735699547448,\n        \"min\": 12347.0,\n        \"max\": 18283.0,\n        \"num_unique_values\": 1165,\n        \"samples\": [\n          15510.0,\n          14047.0,\n          12942.0\n        ],\n        \"semantic_type\": \"\",\n        \"description\": \"\"\n      }\n    },\n    {\n      \"column\": \"Country\",\n      \"properties\": {\n        \"dtype\": \"category\",\n        \"num_unique_values\": 24,\n        \"samples\": [\n          \"Spain\",\n          \"Channel Islands\",\n          \"United Kingdom\"\n        ],\n        \"semantic_type\": \"\",\n        \"description\": \"\"\n      }\n    }\n  ]\n}"
            }
          },
          "metadata": {},
          "execution_count": 49
        }
      ],
      "source": [
        "df.head(2)"
      ]
    },
    {
      "cell_type": "code",
      "execution_count": null,
      "metadata": {
        "colab": {
          "base_uri": "https://localhost:8080/",
          "height": 390
        },
        "id": "gYx9AHA3EOVu",
        "outputId": "4b8a59a3-ca43-4a3f-9d06-5a64b1873aee"
      },
      "outputs": [
        {
          "output_type": "execute_result",
          "data": {
            "text/plain": [
              "       InvoiceNo StockCode                         Description      Quantity  \\\n",
              "count      59998     59998                               59837  59998.000000   \n",
              "unique      2740      2950                                2889           NaN   \n",
              "top       537434    85123A  WHITE HANGING HEART T-LIGHT HOLDER           NaN   \n",
              "freq         675       335                                 340           NaN   \n",
              "mean         NaN       NaN                                 NaN      8.502967   \n",
              "std          NaN       NaN                                 NaN     56.746866   \n",
              "min          NaN       NaN                                 NaN  -9360.000000   \n",
              "25%          NaN       NaN                                 NaN      1.000000   \n",
              "50%          NaN       NaN                                 NaN      2.000000   \n",
              "75%          NaN       NaN                                 NaN      8.000000   \n",
              "max          NaN       NaN                                 NaN   3114.000000   \n",
              "\n",
              "            InvoiceDate     UnitPrice    CustomerID         Country  \n",
              "count             59998  59998.000000  38049.000000           59998  \n",
              "unique             2435           NaN           NaN              24  \n",
              "top     12/6/2010 16:57           NaN           NaN  United Kingdom  \n",
              "freq                675           NaN           NaN           56112  \n",
              "mean                NaN      5.989186  15385.804226             NaN  \n",
              "std                 NaN    152.109427   1761.735700             NaN  \n",
              "min                 NaN      0.000000  12347.000000             NaN  \n",
              "25%                 NaN      1.250000  13983.000000             NaN  \n",
              "50%                 NaN      2.510000  15366.000000             NaN  \n",
              "75%                 NaN      4.250000  17017.000000             NaN  \n",
              "max                 NaN  16888.020000  18283.000000             NaN  "
            ],
            "text/html": [
              "\n",
              "  <div id=\"df-5c62d9ef-d146-4bf4-a79d-000cf0ea30c5\" class=\"colab-df-container\">\n",
              "    <div>\n",
              "<style scoped>\n",
              "    .dataframe tbody tr th:only-of-type {\n",
              "        vertical-align: middle;\n",
              "    }\n",
              "\n",
              "    .dataframe tbody tr th {\n",
              "        vertical-align: top;\n",
              "    }\n",
              "\n",
              "    .dataframe thead th {\n",
              "        text-align: right;\n",
              "    }\n",
              "</style>\n",
              "<table border=\"1\" class=\"dataframe\">\n",
              "  <thead>\n",
              "    <tr style=\"text-align: right;\">\n",
              "      <th></th>\n",
              "      <th>InvoiceNo</th>\n",
              "      <th>StockCode</th>\n",
              "      <th>Description</th>\n",
              "      <th>Quantity</th>\n",
              "      <th>InvoiceDate</th>\n",
              "      <th>UnitPrice</th>\n",
              "      <th>CustomerID</th>\n",
              "      <th>Country</th>\n",
              "    </tr>\n",
              "  </thead>\n",
              "  <tbody>\n",
              "    <tr>\n",
              "      <th>count</th>\n",
              "      <td>59998</td>\n",
              "      <td>59998</td>\n",
              "      <td>59837</td>\n",
              "      <td>59998.000000</td>\n",
              "      <td>59998</td>\n",
              "      <td>59998.000000</td>\n",
              "      <td>38049.000000</td>\n",
              "      <td>59998</td>\n",
              "    </tr>\n",
              "    <tr>\n",
              "      <th>unique</th>\n",
              "      <td>2740</td>\n",
              "      <td>2950</td>\n",
              "      <td>2889</td>\n",
              "      <td>NaN</td>\n",
              "      <td>2435</td>\n",
              "      <td>NaN</td>\n",
              "      <td>NaN</td>\n",
              "      <td>24</td>\n",
              "    </tr>\n",
              "    <tr>\n",
              "      <th>top</th>\n",
              "      <td>537434</td>\n",
              "      <td>85123A</td>\n",
              "      <td>WHITE HANGING HEART T-LIGHT HOLDER</td>\n",
              "      <td>NaN</td>\n",
              "      <td>12/6/2010 16:57</td>\n",
              "      <td>NaN</td>\n",
              "      <td>NaN</td>\n",
              "      <td>United Kingdom</td>\n",
              "    </tr>\n",
              "    <tr>\n",
              "      <th>freq</th>\n",
              "      <td>675</td>\n",
              "      <td>335</td>\n",
              "      <td>340</td>\n",
              "      <td>NaN</td>\n",
              "      <td>675</td>\n",
              "      <td>NaN</td>\n",
              "      <td>NaN</td>\n",
              "      <td>56112</td>\n",
              "    </tr>\n",
              "    <tr>\n",
              "      <th>mean</th>\n",
              "      <td>NaN</td>\n",
              "      <td>NaN</td>\n",
              "      <td>NaN</td>\n",
              "      <td>8.502967</td>\n",
              "      <td>NaN</td>\n",
              "      <td>5.989186</td>\n",
              "      <td>15385.804226</td>\n",
              "      <td>NaN</td>\n",
              "    </tr>\n",
              "    <tr>\n",
              "      <th>std</th>\n",
              "      <td>NaN</td>\n",
              "      <td>NaN</td>\n",
              "      <td>NaN</td>\n",
              "      <td>56.746866</td>\n",
              "      <td>NaN</td>\n",
              "      <td>152.109427</td>\n",
              "      <td>1761.735700</td>\n",
              "      <td>NaN</td>\n",
              "    </tr>\n",
              "    <tr>\n",
              "      <th>min</th>\n",
              "      <td>NaN</td>\n",
              "      <td>NaN</td>\n",
              "      <td>NaN</td>\n",
              "      <td>-9360.000000</td>\n",
              "      <td>NaN</td>\n",
              "      <td>0.000000</td>\n",
              "      <td>12347.000000</td>\n",
              "      <td>NaN</td>\n",
              "    </tr>\n",
              "    <tr>\n",
              "      <th>25%</th>\n",
              "      <td>NaN</td>\n",
              "      <td>NaN</td>\n",
              "      <td>NaN</td>\n",
              "      <td>1.000000</td>\n",
              "      <td>NaN</td>\n",
              "      <td>1.250000</td>\n",
              "      <td>13983.000000</td>\n",
              "      <td>NaN</td>\n",
              "    </tr>\n",
              "    <tr>\n",
              "      <th>50%</th>\n",
              "      <td>NaN</td>\n",
              "      <td>NaN</td>\n",
              "      <td>NaN</td>\n",
              "      <td>2.000000</td>\n",
              "      <td>NaN</td>\n",
              "      <td>2.510000</td>\n",
              "      <td>15366.000000</td>\n",
              "      <td>NaN</td>\n",
              "    </tr>\n",
              "    <tr>\n",
              "      <th>75%</th>\n",
              "      <td>NaN</td>\n",
              "      <td>NaN</td>\n",
              "      <td>NaN</td>\n",
              "      <td>8.000000</td>\n",
              "      <td>NaN</td>\n",
              "      <td>4.250000</td>\n",
              "      <td>17017.000000</td>\n",
              "      <td>NaN</td>\n",
              "    </tr>\n",
              "    <tr>\n",
              "      <th>max</th>\n",
              "      <td>NaN</td>\n",
              "      <td>NaN</td>\n",
              "      <td>NaN</td>\n",
              "      <td>3114.000000</td>\n",
              "      <td>NaN</td>\n",
              "      <td>16888.020000</td>\n",
              "      <td>18283.000000</td>\n",
              "      <td>NaN</td>\n",
              "    </tr>\n",
              "  </tbody>\n",
              "</table>\n",
              "</div>\n",
              "    <div class=\"colab-df-buttons\">\n",
              "\n",
              "  <div class=\"colab-df-container\">\n",
              "    <button class=\"colab-df-convert\" onclick=\"convertToInteractive('df-5c62d9ef-d146-4bf4-a79d-000cf0ea30c5')\"\n",
              "            title=\"Convert this dataframe to an interactive table.\"\n",
              "            style=\"display:none;\">\n",
              "\n",
              "  <svg xmlns=\"http://www.w3.org/2000/svg\" height=\"24px\" viewBox=\"0 -960 960 960\">\n",
              "    <path d=\"M120-120v-720h720v720H120Zm60-500h600v-160H180v160Zm220 220h160v-160H400v160Zm0 220h160v-160H400v160ZM180-400h160v-160H180v160Zm440 0h160v-160H620v160ZM180-180h160v-160H180v160Zm440 0h160v-160H620v160Z\"/>\n",
              "  </svg>\n",
              "    </button>\n",
              "\n",
              "  <style>\n",
              "    .colab-df-container {\n",
              "      display:flex;\n",
              "      gap: 12px;\n",
              "    }\n",
              "\n",
              "    .colab-df-convert {\n",
              "      background-color: #E8F0FE;\n",
              "      border: none;\n",
              "      border-radius: 50%;\n",
              "      cursor: pointer;\n",
              "      display: none;\n",
              "      fill: #1967D2;\n",
              "      height: 32px;\n",
              "      padding: 0 0 0 0;\n",
              "      width: 32px;\n",
              "    }\n",
              "\n",
              "    .colab-df-convert:hover {\n",
              "      background-color: #E2EBFA;\n",
              "      box-shadow: 0px 1px 2px rgba(60, 64, 67, 0.3), 0px 1px 3px 1px rgba(60, 64, 67, 0.15);\n",
              "      fill: #174EA6;\n",
              "    }\n",
              "\n",
              "    .colab-df-buttons div {\n",
              "      margin-bottom: 4px;\n",
              "    }\n",
              "\n",
              "    [theme=dark] .colab-df-convert {\n",
              "      background-color: #3B4455;\n",
              "      fill: #D2E3FC;\n",
              "    }\n",
              "\n",
              "    [theme=dark] .colab-df-convert:hover {\n",
              "      background-color: #434B5C;\n",
              "      box-shadow: 0px 1px 3px 1px rgba(0, 0, 0, 0.15);\n",
              "      filter: drop-shadow(0px 1px 2px rgba(0, 0, 0, 0.3));\n",
              "      fill: #FFFFFF;\n",
              "    }\n",
              "  </style>\n",
              "\n",
              "    <script>\n",
              "      const buttonEl =\n",
              "        document.querySelector('#df-5c62d9ef-d146-4bf4-a79d-000cf0ea30c5 button.colab-df-convert');\n",
              "      buttonEl.style.display =\n",
              "        google.colab.kernel.accessAllowed ? 'block' : 'none';\n",
              "\n",
              "      async function convertToInteractive(key) {\n",
              "        const element = document.querySelector('#df-5c62d9ef-d146-4bf4-a79d-000cf0ea30c5');\n",
              "        const dataTable =\n",
              "          await google.colab.kernel.invokeFunction('convertToInteractive',\n",
              "                                                    [key], {});\n",
              "        if (!dataTable) return;\n",
              "\n",
              "        const docLinkHtml = 'Like what you see? Visit the ' +\n",
              "          '<a target=\"_blank\" href=https://colab.research.google.com/notebooks/data_table.ipynb>data table notebook</a>'\n",
              "          + ' to learn more about interactive tables.';\n",
              "        element.innerHTML = '';\n",
              "        dataTable['output_type'] = 'display_data';\n",
              "        await google.colab.output.renderOutput(dataTable, element);\n",
              "        const docLink = document.createElement('div');\n",
              "        docLink.innerHTML = docLinkHtml;\n",
              "        element.appendChild(docLink);\n",
              "      }\n",
              "    </script>\n",
              "  </div>\n",
              "\n",
              "\n",
              "<div id=\"df-61d1c1ec-f142-4931-91f4-cf8a2dad6d4e\">\n",
              "  <button class=\"colab-df-quickchart\" onclick=\"quickchart('df-61d1c1ec-f142-4931-91f4-cf8a2dad6d4e')\"\n",
              "            title=\"Suggest charts\"\n",
              "            style=\"display:none;\">\n",
              "\n",
              "<svg xmlns=\"http://www.w3.org/2000/svg\" height=\"24px\"viewBox=\"0 0 24 24\"\n",
              "     width=\"24px\">\n",
              "    <g>\n",
              "        <path d=\"M19 3H5c-1.1 0-2 .9-2 2v14c0 1.1.9 2 2 2h14c1.1 0 2-.9 2-2V5c0-1.1-.9-2-2-2zM9 17H7v-7h2v7zm4 0h-2V7h2v10zm4 0h-2v-4h2v4z\"/>\n",
              "    </g>\n",
              "</svg>\n",
              "  </button>\n",
              "\n",
              "<style>\n",
              "  .colab-df-quickchart {\n",
              "      --bg-color: #E8F0FE;\n",
              "      --fill-color: #1967D2;\n",
              "      --hover-bg-color: #E2EBFA;\n",
              "      --hover-fill-color: #174EA6;\n",
              "      --disabled-fill-color: #AAA;\n",
              "      --disabled-bg-color: #DDD;\n",
              "  }\n",
              "\n",
              "  [theme=dark] .colab-df-quickchart {\n",
              "      --bg-color: #3B4455;\n",
              "      --fill-color: #D2E3FC;\n",
              "      --hover-bg-color: #434B5C;\n",
              "      --hover-fill-color: #FFFFFF;\n",
              "      --disabled-bg-color: #3B4455;\n",
              "      --disabled-fill-color: #666;\n",
              "  }\n",
              "\n",
              "  .colab-df-quickchart {\n",
              "    background-color: var(--bg-color);\n",
              "    border: none;\n",
              "    border-radius: 50%;\n",
              "    cursor: pointer;\n",
              "    display: none;\n",
              "    fill: var(--fill-color);\n",
              "    height: 32px;\n",
              "    padding: 0;\n",
              "    width: 32px;\n",
              "  }\n",
              "\n",
              "  .colab-df-quickchart:hover {\n",
              "    background-color: var(--hover-bg-color);\n",
              "    box-shadow: 0 1px 2px rgba(60, 64, 67, 0.3), 0 1px 3px 1px rgba(60, 64, 67, 0.15);\n",
              "    fill: var(--button-hover-fill-color);\n",
              "  }\n",
              "\n",
              "  .colab-df-quickchart-complete:disabled,\n",
              "  .colab-df-quickchart-complete:disabled:hover {\n",
              "    background-color: var(--disabled-bg-color);\n",
              "    fill: var(--disabled-fill-color);\n",
              "    box-shadow: none;\n",
              "  }\n",
              "\n",
              "  .colab-df-spinner {\n",
              "    border: 2px solid var(--fill-color);\n",
              "    border-color: transparent;\n",
              "    border-bottom-color: var(--fill-color);\n",
              "    animation:\n",
              "      spin 1s steps(1) infinite;\n",
              "  }\n",
              "\n",
              "  @keyframes spin {\n",
              "    0% {\n",
              "      border-color: transparent;\n",
              "      border-bottom-color: var(--fill-color);\n",
              "      border-left-color: var(--fill-color);\n",
              "    }\n",
              "    20% {\n",
              "      border-color: transparent;\n",
              "      border-left-color: var(--fill-color);\n",
              "      border-top-color: var(--fill-color);\n",
              "    }\n",
              "    30% {\n",
              "      border-color: transparent;\n",
              "      border-left-color: var(--fill-color);\n",
              "      border-top-color: var(--fill-color);\n",
              "      border-right-color: var(--fill-color);\n",
              "    }\n",
              "    40% {\n",
              "      border-color: transparent;\n",
              "      border-right-color: var(--fill-color);\n",
              "      border-top-color: var(--fill-color);\n",
              "    }\n",
              "    60% {\n",
              "      border-color: transparent;\n",
              "      border-right-color: var(--fill-color);\n",
              "    }\n",
              "    80% {\n",
              "      border-color: transparent;\n",
              "      border-right-color: var(--fill-color);\n",
              "      border-bottom-color: var(--fill-color);\n",
              "    }\n",
              "    90% {\n",
              "      border-color: transparent;\n",
              "      border-bottom-color: var(--fill-color);\n",
              "    }\n",
              "  }\n",
              "</style>\n",
              "\n",
              "  <script>\n",
              "    async function quickchart(key) {\n",
              "      const quickchartButtonEl =\n",
              "        document.querySelector('#' + key + ' button');\n",
              "      quickchartButtonEl.disabled = true;  // To prevent multiple clicks.\n",
              "      quickchartButtonEl.classList.add('colab-df-spinner');\n",
              "      try {\n",
              "        const charts = await google.colab.kernel.invokeFunction(\n",
              "            'suggestCharts', [key], {});\n",
              "      } catch (error) {\n",
              "        console.error('Error during call to suggestCharts:', error);\n",
              "      }\n",
              "      quickchartButtonEl.classList.remove('colab-df-spinner');\n",
              "      quickchartButtonEl.classList.add('colab-df-quickchart-complete');\n",
              "    }\n",
              "    (() => {\n",
              "      let quickchartButtonEl =\n",
              "        document.querySelector('#df-61d1c1ec-f142-4931-91f4-cf8a2dad6d4e button');\n",
              "      quickchartButtonEl.style.display =\n",
              "        google.colab.kernel.accessAllowed ? 'block' : 'none';\n",
              "    })();\n",
              "  </script>\n",
              "</div>\n",
              "    </div>\n",
              "  </div>\n"
            ],
            "application/vnd.google.colaboratory.intrinsic+json": {
              "type": "dataframe",
              "summary": "{\n  \"name\": \"df\",\n  \"rows\": 11,\n  \"fields\": [\n    {\n      \"column\": \"InvoiceNo\",\n      \"properties\": {\n        \"dtype\": \"category\",\n        \"num_unique_values\": 4,\n        \"samples\": [\n          2740,\n          \"675\",\n          \"59998\"\n        ],\n        \"semantic_type\": \"\",\n        \"description\": \"\"\n      }\n    },\n    {\n      \"column\": \"StockCode\",\n      \"properties\": {\n        \"dtype\": \"category\",\n        \"num_unique_values\": 4,\n        \"samples\": [\n          2950,\n          \"335\",\n          \"59998\"\n        ],\n        \"semantic_type\": \"\",\n        \"description\": \"\"\n      }\n    },\n    {\n      \"column\": \"Description\",\n      \"properties\": {\n        \"dtype\": \"category\",\n        \"num_unique_values\": 4,\n        \"samples\": [\n          2889,\n          \"340\",\n          \"59837\"\n        ],\n        \"semantic_type\": \"\",\n        \"description\": \"\"\n      }\n    },\n    {\n      \"column\": \"Quantity\",\n      \"properties\": {\n        \"dtype\": \"number\",\n        \"std\": 21826.867131721636,\n        \"min\": -9360.0,\n        \"max\": 59998.0,\n        \"num_unique_values\": 8,\n        \"samples\": [\n          8.502966765558853,\n          2.0,\n          59998.0\n        ],\n        \"semantic_type\": \"\",\n        \"description\": \"\"\n      }\n    },\n    {\n      \"column\": \"InvoiceDate\",\n      \"properties\": {\n        \"dtype\": \"date\",\n        \"min\": \"1970-01-01 00:00:00.000000675\",\n        \"max\": \"2010-12-06 16:57:00\",\n        \"num_unique_values\": 4,\n        \"samples\": [\n          2435,\n          \"675\",\n          \"59998\"\n        ],\n        \"semantic_type\": \"\",\n        \"description\": \"\"\n      }\n    },\n    {\n      \"column\": \"UnitPrice\",\n      \"properties\": {\n        \"dtype\": \"number\",\n        \"std\": 21189.146841580943,\n        \"min\": 0.0,\n        \"max\": 59998.0,\n        \"num_unique_values\": 8,\n        \"samples\": [\n          5.9891858061935395,\n          2.51,\n          59998.0\n        ],\n        \"semantic_type\": \"\",\n        \"description\": \"\"\n      }\n    },\n    {\n      \"column\": \"CustomerID\",\n      \"properties\": {\n        \"dtype\": \"number\",\n        \"std\": 10079.169933649104,\n        \"min\": 1761.735699547448,\n        \"max\": 38049.0,\n        \"num_unique_values\": 8,\n        \"samples\": [\n          15385.804226129465,\n          15366.0,\n          38049.0\n        ],\n        \"semantic_type\": \"\",\n        \"description\": \"\"\n      }\n    },\n    {\n      \"column\": \"Country\",\n      \"properties\": {\n        \"dtype\": \"category\",\n        \"num_unique_values\": 4,\n        \"samples\": [\n          24,\n          \"56112\",\n          \"59998\"\n        ],\n        \"semantic_type\": \"\",\n        \"description\": \"\"\n      }\n    }\n  ]\n}"
            }
          },
          "metadata": {},
          "execution_count": 50
        }
      ],
      "source": [
        "# Describe only numerical columns and include frequency statistics\n",
        "df.describe(include='all')\n"
      ]
    },
    {
      "cell_type": "code",
      "execution_count": null,
      "metadata": {
        "colab": {
          "base_uri": "https://localhost:8080/"
        },
        "id": "BiQ3fypPKsps",
        "outputId": "e5e7159a-c2d3-4d03-a09b-3d8b35815ff6"
      },
      "outputs": [
        {
          "output_type": "execute_result",
          "data": {
            "text/plain": [
              "(59998, 8)"
            ]
          },
          "metadata": {},
          "execution_count": 51
        }
      ],
      "source": [
        "df.shape"
      ]
    },
    {
      "cell_type": "code",
      "execution_count": null,
      "metadata": {
        "colab": {
          "base_uri": "https://localhost:8080/"
        },
        "id": "Nh3vPbNHCrJu",
        "outputId": "a5e03925-9b93-4f6e-fba2-7e36524aea7d"
      },
      "outputs": [
        {
          "output_type": "stream",
          "name": "stdout",
          "text": [
            "<class 'pandas.core.frame.DataFrame'>\n",
            "RangeIndex: 59998 entries, 0 to 59997\n",
            "Data columns (total 8 columns):\n",
            " #   Column       Non-Null Count  Dtype  \n",
            "---  ------       --------------  -----  \n",
            " 0   InvoiceNo    59998 non-null  object \n",
            " 1   StockCode    59998 non-null  object \n",
            " 2   Description  59837 non-null  object \n",
            " 3   Quantity     59998 non-null  int64  \n",
            " 4   InvoiceDate  59998 non-null  object \n",
            " 5   UnitPrice    59998 non-null  float64\n",
            " 6   CustomerID   38049 non-null  float64\n",
            " 7   Country      59998 non-null  object \n",
            "dtypes: float64(2), int64(1), object(5)\n",
            "memory usage: 3.7+ MB\n"
          ]
        }
      ],
      "source": [
        "df.info() # Dataframe Information (Provide Information on Missing Data)"
      ]
    },
    {
      "cell_type": "code",
      "execution_count": null,
      "metadata": {
        "colab": {
          "base_uri": "https://localhost:8080/"
        },
        "id": "Ty7PkFI3C18i",
        "outputId": "8f1ab374-9423-405c-fc00-929ce4e22fa4"
      },
      "outputs": [
        {
          "output_type": "execute_result",
          "data": {
            "text/plain": [
              "InvoiceNo          0\n",
              "StockCode          0\n",
              "Description      161\n",
              "Quantity           0\n",
              "InvoiceDate        0\n",
              "UnitPrice          0\n",
              "CustomerID     21949\n",
              "Country            0\n",
              "dtype: int64"
            ]
          },
          "metadata": {},
          "execution_count": 53
        }
      ],
      "source": [
        "variable_missing_data = df.isna().sum(); variable_missing_data # Variable-wise Missing Data Information"
      ]
    },
    {
      "cell_type": "code",
      "execution_count": null,
      "metadata": {
        "colab": {
          "base_uri": "https://localhost:8080/"
        },
        "id": "8plIKxJpDGMD",
        "outputId": "24957c06-cb95-476a-aa9b-8fcb4c64b0c4"
      },
      "outputs": [
        {
          "output_type": "execute_result",
          "data": {
            "text/plain": [
              "7196     2\n",
              "1971     2\n",
              "45394    2\n",
              "52262    2\n",
              "39369    2\n",
              "dtype: int64"
            ]
          },
          "metadata": {},
          "execution_count": 54
        }
      ],
      "source": [
        "record_missing_data = df.isna().sum(axis=1).sort_values(ascending=False).head(5); record_missing_data # Record-wise Missing Data Information (Top 5)"
      ]
    },
    {
      "cell_type": "code",
      "execution_count": null,
      "metadata": {
        "id": "UcY-s54iD4Dh"
      },
      "outputs": [],
      "source": [
        "# Data Bifurcation\n",
        "df_cat = df[[ 'Country','StockCode','InvoiceDate']] # Categorical Data [Nominal | Ordinal]\n",
        "df_noncat = df[['Quantity', 'UnitPrice']] # Non-Categorical Data\n"
      ]
    },
    {
      "cell_type": "code",
      "execution_count": null,
      "metadata": {
        "colab": {
          "base_uri": "https://localhost:8080/"
        },
        "id": "VxL2M7gzOgpD",
        "outputId": "75a99601-780a-4729-da36-387db14f2d12"
      },
      "outputs": [
        {
          "output_type": "stream",
          "name": "stdout",
          "text": [
            "InvoiceNo       0.000000\n",
            "StockCode       0.000000\n",
            "Description     0.268342\n",
            "Quantity        0.000000\n",
            "InvoiceDate     0.000000\n",
            "UnitPrice       0.000000\n",
            "CustomerID     36.582886\n",
            "Country         0.000000\n",
            "dtype: float64\n"
          ]
        }
      ],
      "source": [
        "nan_counts_per_column = df.isnull().sum()\n",
        "\n",
        "# Calculate the total number of rows\n",
        "total_rows = len(df)\n",
        "\n",
        "# Calculate the percentage of missing data in each column\n",
        "percentage_missing_per_column = (nan_counts_per_column / total_rows) * 100\n",
        "\n",
        "# Display the percentage of missing data in each column\n",
        "print(percentage_missing_per_column)"
      ]
    },
    {
      "cell_type": "code",
      "execution_count": null,
      "metadata": {
        "colab": {
          "base_uri": "https://localhost:8080/"
        },
        "id": "Zi8scxNKNLyr",
        "outputId": "1afbc1ab-9b17-4d57-9e13-676c31bdae1e"
      },
      "outputs": [
        {
          "output_type": "stream",
          "name": "stdout",
          "text": [
            "<class 'pandas.core.frame.DataFrame'>\n",
            "RangeIndex: 59998 entries, 0 to 59997\n",
            "Data columns (total 3 columns):\n",
            " #   Column       Non-Null Count  Dtype \n",
            "---  ------       --------------  ----- \n",
            " 0   Country      59998 non-null  object\n",
            " 1   StockCode    59998 non-null  object\n",
            " 2   InvoiceDate  59998 non-null  object\n",
            "dtypes: object(3)\n",
            "memory usage: 1.4+ MB\n"
          ]
        }
      ],
      "source": [
        "si_cat = SimpleImputer(missing_values=np.nan, strategy='most_frequent') # Strategy = median [When Odd Number of Categories Exists]\n",
        "si_cat_fit = si_cat.fit_transform(df_cat)\n",
        "df_cat_mdi = pd.DataFrame(si_cat_fit, columns=df_cat.columns); df_cat_mdi # Missing Categorical Data Imputed Subset\n",
        "df_cat_mdi.info()"
      ]
    },
    {
      "cell_type": "code",
      "execution_count": null,
      "metadata": {
        "colab": {
          "base_uri": "https://localhost:8080/"
        },
        "id": "io0iwO_bNbGH",
        "outputId": "92991e28-e4e2-4462-9f9c-de2d0773fd35"
      },
      "outputs": [
        {
          "output_type": "stream",
          "name": "stdout",
          "text": [
            "<class 'pandas.core.frame.DataFrame'>\n",
            "RangeIndex: 59998 entries, 0 to 59997\n",
            "Data columns (total 2 columns):\n",
            " #   Column     Non-Null Count  Dtype  \n",
            "---  ------     --------------  -----  \n",
            " 0   Quantity   59998 non-null  float64\n",
            " 1   UnitPrice  59998 non-null  float64\n",
            "dtypes: float64(2)\n",
            "memory usage: 937.6 KB\n"
          ]
        }
      ],
      "source": [
        "si_noncat = SimpleImputer(missing_values=np.nan, strategy='mean') # Other Strategy : mean | median | most_frequent | constant\n",
        "si_noncat_fit = si_noncat.fit_transform(df_noncat)\n",
        "df_noncat_mdi_si = pd.DataFrame(si_noncat_fit, columns=df_noncat.columns); df_noncat_mdi_si # Missing Non-Categorical Data Imputed Subset using Simple Imputer\n",
        "df_noncat_mdi_si.info()"
      ]
    },
    {
      "cell_type": "code",
      "execution_count": null,
      "metadata": {
        "id": "QxMuQTl3NhK1"
      },
      "outputs": [],
      "source": [
        "# Dataset Used : df_cat_mdi\n",
        "df_cat_mdi_code = df_cat_mdi.copy()"
      ]
    },
    {
      "cell_type": "code",
      "execution_count": null,
      "metadata": {
        "id": "JvhG_2HCJ7wd",
        "colab": {
          "base_uri": "https://localhost:8080/"
        },
        "outputId": "10d4c282-c1b7-4017-b423-7d5962a29dd7"
      },
      "outputs": [
        {
          "output_type": "execute_result",
          "data": {
            "text/plain": [
              "('Country', 'StockCode', 'InvoiceDate')"
            ]
          },
          "metadata": {},
          "execution_count": 60
        }
      ],
      "source": [
        "'Country','StockCode','InvoiceDate'"
      ]
    },
    {
      "cell_type": "code",
      "execution_count": null,
      "metadata": {
        "colab": {
          "base_uri": "https://localhost:8080/",
          "height": 419
        },
        "id": "Yn1LswXLQB4M",
        "outputId": "d0430bb2-b330-44ef-c7ca-a3c641d1303f"
      },
      "outputs": [
        {
          "output_type": "execute_result",
          "data": {
            "text/plain": [
              "              Country StockCode      InvoiceDate  Country_code  \\\n",
              "0      United Kingdom    85123A   12/1/2010 8:26            23   \n",
              "1      United Kingdom     71053   12/1/2010 8:26            23   \n",
              "2      United Kingdom    84406B   12/1/2010 8:26            23   \n",
              "3      United Kingdom    84029G   12/1/2010 8:26            23   \n",
              "4      United Kingdom    84029E   12/1/2010 8:26            23   \n",
              "...               ...       ...              ...           ...   \n",
              "59993  United Kingdom     21027  1/17/2011 17:44            23   \n",
              "59994  United Kingdom     21033  1/17/2011 17:44            23   \n",
              "59995  United Kingdom     21041  1/17/2011 17:44            23   \n",
              "59996  United Kingdom     21043  1/17/2011 17:44            23   \n",
              "59997  United Kingdom     21051  1/17/2011 17:44            23   \n",
              "\n",
              "       StockCode_code  InvoiceDate_code  \n",
              "0                2538               767  \n",
              "1                1995               767  \n",
              "2                2170               767  \n",
              "3                2128               767  \n",
              "4                2127               767  \n",
              "...               ...               ...  \n",
              "59993             282               364  \n",
              "59994             287               364  \n",
              "59995             293               364  \n",
              "59996             295               364  \n",
              "59997             296               364  \n",
              "\n",
              "[59998 rows x 6 columns]"
            ],
            "text/html": [
              "\n",
              "  <div id=\"df-5ef64512-39a1-4af2-90ee-45375887dddb\" class=\"colab-df-container\">\n",
              "    <div>\n",
              "<style scoped>\n",
              "    .dataframe tbody tr th:only-of-type {\n",
              "        vertical-align: middle;\n",
              "    }\n",
              "\n",
              "    .dataframe tbody tr th {\n",
              "        vertical-align: top;\n",
              "    }\n",
              "\n",
              "    .dataframe thead th {\n",
              "        text-align: right;\n",
              "    }\n",
              "</style>\n",
              "<table border=\"1\" class=\"dataframe\">\n",
              "  <thead>\n",
              "    <tr style=\"text-align: right;\">\n",
              "      <th></th>\n",
              "      <th>Country</th>\n",
              "      <th>StockCode</th>\n",
              "      <th>InvoiceDate</th>\n",
              "      <th>Country_code</th>\n",
              "      <th>StockCode_code</th>\n",
              "      <th>InvoiceDate_code</th>\n",
              "    </tr>\n",
              "  </thead>\n",
              "  <tbody>\n",
              "    <tr>\n",
              "      <th>0</th>\n",
              "      <td>United Kingdom</td>\n",
              "      <td>85123A</td>\n",
              "      <td>12/1/2010 8:26</td>\n",
              "      <td>23</td>\n",
              "      <td>2538</td>\n",
              "      <td>767</td>\n",
              "    </tr>\n",
              "    <tr>\n",
              "      <th>1</th>\n",
              "      <td>United Kingdom</td>\n",
              "      <td>71053</td>\n",
              "      <td>12/1/2010 8:26</td>\n",
              "      <td>23</td>\n",
              "      <td>1995</td>\n",
              "      <td>767</td>\n",
              "    </tr>\n",
              "    <tr>\n",
              "      <th>2</th>\n",
              "      <td>United Kingdom</td>\n",
              "      <td>84406B</td>\n",
              "      <td>12/1/2010 8:26</td>\n",
              "      <td>23</td>\n",
              "      <td>2170</td>\n",
              "      <td>767</td>\n",
              "    </tr>\n",
              "    <tr>\n",
              "      <th>3</th>\n",
              "      <td>United Kingdom</td>\n",
              "      <td>84029G</td>\n",
              "      <td>12/1/2010 8:26</td>\n",
              "      <td>23</td>\n",
              "      <td>2128</td>\n",
              "      <td>767</td>\n",
              "    </tr>\n",
              "    <tr>\n",
              "      <th>4</th>\n",
              "      <td>United Kingdom</td>\n",
              "      <td>84029E</td>\n",
              "      <td>12/1/2010 8:26</td>\n",
              "      <td>23</td>\n",
              "      <td>2127</td>\n",
              "      <td>767</td>\n",
              "    </tr>\n",
              "    <tr>\n",
              "      <th>...</th>\n",
              "      <td>...</td>\n",
              "      <td>...</td>\n",
              "      <td>...</td>\n",
              "      <td>...</td>\n",
              "      <td>...</td>\n",
              "      <td>...</td>\n",
              "    </tr>\n",
              "    <tr>\n",
              "      <th>59993</th>\n",
              "      <td>United Kingdom</td>\n",
              "      <td>21027</td>\n",
              "      <td>1/17/2011 17:44</td>\n",
              "      <td>23</td>\n",
              "      <td>282</td>\n",
              "      <td>364</td>\n",
              "    </tr>\n",
              "    <tr>\n",
              "      <th>59994</th>\n",
              "      <td>United Kingdom</td>\n",
              "      <td>21033</td>\n",
              "      <td>1/17/2011 17:44</td>\n",
              "      <td>23</td>\n",
              "      <td>287</td>\n",
              "      <td>364</td>\n",
              "    </tr>\n",
              "    <tr>\n",
              "      <th>59995</th>\n",
              "      <td>United Kingdom</td>\n",
              "      <td>21041</td>\n",
              "      <td>1/17/2011 17:44</td>\n",
              "      <td>23</td>\n",
              "      <td>293</td>\n",
              "      <td>364</td>\n",
              "    </tr>\n",
              "    <tr>\n",
              "      <th>59996</th>\n",
              "      <td>United Kingdom</td>\n",
              "      <td>21043</td>\n",
              "      <td>1/17/2011 17:44</td>\n",
              "      <td>23</td>\n",
              "      <td>295</td>\n",
              "      <td>364</td>\n",
              "    </tr>\n",
              "    <tr>\n",
              "      <th>59997</th>\n",
              "      <td>United Kingdom</td>\n",
              "      <td>21051</td>\n",
              "      <td>1/17/2011 17:44</td>\n",
              "      <td>23</td>\n",
              "      <td>296</td>\n",
              "      <td>364</td>\n",
              "    </tr>\n",
              "  </tbody>\n",
              "</table>\n",
              "<p>59998 rows × 6 columns</p>\n",
              "</div>\n",
              "    <div class=\"colab-df-buttons\">\n",
              "\n",
              "  <div class=\"colab-df-container\">\n",
              "    <button class=\"colab-df-convert\" onclick=\"convertToInteractive('df-5ef64512-39a1-4af2-90ee-45375887dddb')\"\n",
              "            title=\"Convert this dataframe to an interactive table.\"\n",
              "            style=\"display:none;\">\n",
              "\n",
              "  <svg xmlns=\"http://www.w3.org/2000/svg\" height=\"24px\" viewBox=\"0 -960 960 960\">\n",
              "    <path d=\"M120-120v-720h720v720H120Zm60-500h600v-160H180v160Zm220 220h160v-160H400v160Zm0 220h160v-160H400v160ZM180-400h160v-160H180v160Zm440 0h160v-160H620v160ZM180-180h160v-160H180v160Zm440 0h160v-160H620v160Z\"/>\n",
              "  </svg>\n",
              "    </button>\n",
              "\n",
              "  <style>\n",
              "    .colab-df-container {\n",
              "      display:flex;\n",
              "      gap: 12px;\n",
              "    }\n",
              "\n",
              "    .colab-df-convert {\n",
              "      background-color: #E8F0FE;\n",
              "      border: none;\n",
              "      border-radius: 50%;\n",
              "      cursor: pointer;\n",
              "      display: none;\n",
              "      fill: #1967D2;\n",
              "      height: 32px;\n",
              "      padding: 0 0 0 0;\n",
              "      width: 32px;\n",
              "    }\n",
              "\n",
              "    .colab-df-convert:hover {\n",
              "      background-color: #E2EBFA;\n",
              "      box-shadow: 0px 1px 2px rgba(60, 64, 67, 0.3), 0px 1px 3px 1px rgba(60, 64, 67, 0.15);\n",
              "      fill: #174EA6;\n",
              "    }\n",
              "\n",
              "    .colab-df-buttons div {\n",
              "      margin-bottom: 4px;\n",
              "    }\n",
              "\n",
              "    [theme=dark] .colab-df-convert {\n",
              "      background-color: #3B4455;\n",
              "      fill: #D2E3FC;\n",
              "    }\n",
              "\n",
              "    [theme=dark] .colab-df-convert:hover {\n",
              "      background-color: #434B5C;\n",
              "      box-shadow: 0px 1px 3px 1px rgba(0, 0, 0, 0.15);\n",
              "      filter: drop-shadow(0px 1px 2px rgba(0, 0, 0, 0.3));\n",
              "      fill: #FFFFFF;\n",
              "    }\n",
              "  </style>\n",
              "\n",
              "    <script>\n",
              "      const buttonEl =\n",
              "        document.querySelector('#df-5ef64512-39a1-4af2-90ee-45375887dddb button.colab-df-convert');\n",
              "      buttonEl.style.display =\n",
              "        google.colab.kernel.accessAllowed ? 'block' : 'none';\n",
              "\n",
              "      async function convertToInteractive(key) {\n",
              "        const element = document.querySelector('#df-5ef64512-39a1-4af2-90ee-45375887dddb');\n",
              "        const dataTable =\n",
              "          await google.colab.kernel.invokeFunction('convertToInteractive',\n",
              "                                                    [key], {});\n",
              "        if (!dataTable) return;\n",
              "\n",
              "        const docLinkHtml = 'Like what you see? Visit the ' +\n",
              "          '<a target=\"_blank\" href=https://colab.research.google.com/notebooks/data_table.ipynb>data table notebook</a>'\n",
              "          + ' to learn more about interactive tables.';\n",
              "        element.innerHTML = '';\n",
              "        dataTable['output_type'] = 'display_data';\n",
              "        await google.colab.output.renderOutput(dataTable, element);\n",
              "        const docLink = document.createElement('div');\n",
              "        docLink.innerHTML = docLinkHtml;\n",
              "        element.appendChild(docLink);\n",
              "      }\n",
              "    </script>\n",
              "  </div>\n",
              "\n",
              "\n",
              "<div id=\"df-40207273-3058-45e8-9e58-cad1e038b34d\">\n",
              "  <button class=\"colab-df-quickchart\" onclick=\"quickchart('df-40207273-3058-45e8-9e58-cad1e038b34d')\"\n",
              "            title=\"Suggest charts\"\n",
              "            style=\"display:none;\">\n",
              "\n",
              "<svg xmlns=\"http://www.w3.org/2000/svg\" height=\"24px\"viewBox=\"0 0 24 24\"\n",
              "     width=\"24px\">\n",
              "    <g>\n",
              "        <path d=\"M19 3H5c-1.1 0-2 .9-2 2v14c0 1.1.9 2 2 2h14c1.1 0 2-.9 2-2V5c0-1.1-.9-2-2-2zM9 17H7v-7h2v7zm4 0h-2V7h2v10zm4 0h-2v-4h2v4z\"/>\n",
              "    </g>\n",
              "</svg>\n",
              "  </button>\n",
              "\n",
              "<style>\n",
              "  .colab-df-quickchart {\n",
              "      --bg-color: #E8F0FE;\n",
              "      --fill-color: #1967D2;\n",
              "      --hover-bg-color: #E2EBFA;\n",
              "      --hover-fill-color: #174EA6;\n",
              "      --disabled-fill-color: #AAA;\n",
              "      --disabled-bg-color: #DDD;\n",
              "  }\n",
              "\n",
              "  [theme=dark] .colab-df-quickchart {\n",
              "      --bg-color: #3B4455;\n",
              "      --fill-color: #D2E3FC;\n",
              "      --hover-bg-color: #434B5C;\n",
              "      --hover-fill-color: #FFFFFF;\n",
              "      --disabled-bg-color: #3B4455;\n",
              "      --disabled-fill-color: #666;\n",
              "  }\n",
              "\n",
              "  .colab-df-quickchart {\n",
              "    background-color: var(--bg-color);\n",
              "    border: none;\n",
              "    border-radius: 50%;\n",
              "    cursor: pointer;\n",
              "    display: none;\n",
              "    fill: var(--fill-color);\n",
              "    height: 32px;\n",
              "    padding: 0;\n",
              "    width: 32px;\n",
              "  }\n",
              "\n",
              "  .colab-df-quickchart:hover {\n",
              "    background-color: var(--hover-bg-color);\n",
              "    box-shadow: 0 1px 2px rgba(60, 64, 67, 0.3), 0 1px 3px 1px rgba(60, 64, 67, 0.15);\n",
              "    fill: var(--button-hover-fill-color);\n",
              "  }\n",
              "\n",
              "  .colab-df-quickchart-complete:disabled,\n",
              "  .colab-df-quickchart-complete:disabled:hover {\n",
              "    background-color: var(--disabled-bg-color);\n",
              "    fill: var(--disabled-fill-color);\n",
              "    box-shadow: none;\n",
              "  }\n",
              "\n",
              "  .colab-df-spinner {\n",
              "    border: 2px solid var(--fill-color);\n",
              "    border-color: transparent;\n",
              "    border-bottom-color: var(--fill-color);\n",
              "    animation:\n",
              "      spin 1s steps(1) infinite;\n",
              "  }\n",
              "\n",
              "  @keyframes spin {\n",
              "    0% {\n",
              "      border-color: transparent;\n",
              "      border-bottom-color: var(--fill-color);\n",
              "      border-left-color: var(--fill-color);\n",
              "    }\n",
              "    20% {\n",
              "      border-color: transparent;\n",
              "      border-left-color: var(--fill-color);\n",
              "      border-top-color: var(--fill-color);\n",
              "    }\n",
              "    30% {\n",
              "      border-color: transparent;\n",
              "      border-left-color: var(--fill-color);\n",
              "      border-top-color: var(--fill-color);\n",
              "      border-right-color: var(--fill-color);\n",
              "    }\n",
              "    40% {\n",
              "      border-color: transparent;\n",
              "      border-right-color: var(--fill-color);\n",
              "      border-top-color: var(--fill-color);\n",
              "    }\n",
              "    60% {\n",
              "      border-color: transparent;\n",
              "      border-right-color: var(--fill-color);\n",
              "    }\n",
              "    80% {\n",
              "      border-color: transparent;\n",
              "      border-right-color: var(--fill-color);\n",
              "      border-bottom-color: var(--fill-color);\n",
              "    }\n",
              "    90% {\n",
              "      border-color: transparent;\n",
              "      border-bottom-color: var(--fill-color);\n",
              "    }\n",
              "  }\n",
              "</style>\n",
              "\n",
              "  <script>\n",
              "    async function quickchart(key) {\n",
              "      const quickchartButtonEl =\n",
              "        document.querySelector('#' + key + ' button');\n",
              "      quickchartButtonEl.disabled = true;  // To prevent multiple clicks.\n",
              "      quickchartButtonEl.classList.add('colab-df-spinner');\n",
              "      try {\n",
              "        const charts = await google.colab.kernel.invokeFunction(\n",
              "            'suggestCharts', [key], {});\n",
              "      } catch (error) {\n",
              "        console.error('Error during call to suggestCharts:', error);\n",
              "      }\n",
              "      quickchartButtonEl.classList.remove('colab-df-spinner');\n",
              "      quickchartButtonEl.classList.add('colab-df-quickchart-complete');\n",
              "    }\n",
              "    (() => {\n",
              "      let quickchartButtonEl =\n",
              "        document.querySelector('#df-40207273-3058-45e8-9e58-cad1e038b34d button');\n",
              "      quickchartButtonEl.style.display =\n",
              "        google.colab.kernel.accessAllowed ? 'block' : 'none';\n",
              "    })();\n",
              "  </script>\n",
              "</div>\n",
              "    </div>\n",
              "  </div>\n"
            ],
            "application/vnd.google.colaboratory.intrinsic+json": {
              "type": "dataframe",
              "variable_name": "df_cat_mdi_code_pd",
              "summary": "{\n  \"name\": \"df_cat_mdi_code_pd\",\n  \"rows\": 59998,\n  \"fields\": [\n    {\n      \"column\": \"Country\",\n      \"properties\": {\n        \"dtype\": \"category\",\n        \"num_unique_values\": 24,\n        \"samples\": [\n          \"Spain\",\n          \"Channel Islands\",\n          \"United Kingdom\"\n        ],\n        \"semantic_type\": \"\",\n        \"description\": \"\"\n      }\n    },\n    {\n      \"column\": \"StockCode\",\n      \"properties\": {\n        \"dtype\": \"category\",\n        \"num_unique_values\": 2950,\n        \"samples\": [\n          \"21922\",\n          \"22441\",\n          \"16169P\"\n        ],\n        \"semantic_type\": \"\",\n        \"description\": \"\"\n      }\n    },\n    {\n      \"column\": \"InvoiceDate\",\n      \"properties\": {\n        \"dtype\": \"category\",\n        \"num_unique_values\": 2435,\n        \"samples\": [\n          \"1/10/2011 15:35\",\n          \"12/10/2010 13:29\",\n          \"12/17/2010 13:39\"\n        ],\n        \"semantic_type\": \"\",\n        \"description\": \"\"\n      }\n    },\n    {\n      \"column\": \"Country_code\",\n      \"properties\": {\n        \"dtype\": \"int8\",\n        \"num_unique_values\": 24,\n        \"samples\": [\n          20,\n          4,\n          23\n        ],\n        \"semantic_type\": \"\",\n        \"description\": \"\"\n      }\n    },\n    {\n      \"column\": \"StockCode_code\",\n      \"properties\": {\n        \"dtype\": \"int16\",\n        \"num_unique_values\": 2950,\n        \"samples\": [\n          852,\n          1272,\n          48\n        ],\n        \"semantic_type\": \"\",\n        \"description\": \"\"\n      }\n    },\n    {\n      \"column\": \"InvoiceDate_code\",\n      \"properties\": {\n        \"dtype\": \"int16\",\n        \"num_unique_values\": 2435,\n        \"samples\": [\n          34,\n          833,\n          1364\n        ],\n        \"semantic_type\": \"\",\n        \"description\": \"\"\n      }\n    }\n  ]\n}"
            }
          },
          "metadata": {},
          "execution_count": 61
        }
      ],
      "source": [
        "\n",
        "# Using Pandas (Inferior)\n",
        "df_cat_mdi_code_pd = df_cat_mdi_code.astype('category')\n",
        "df_cat_mdi_code_pd['Country_code'] = df_cat_mdi_code_pd['Country'].cat.codes\n",
        "df_cat_mdi_code_pd['StockCode_code'] = df_cat_mdi_code_pd['StockCode'].cat.codes\n",
        "df_cat_mdi_code_pd['InvoiceDate_code'] = df_cat_mdi_code_pd['InvoiceDate'].cat.codes\n",
        "df_cat_mdi_code_pd # (Missing Data Treated) Numeric Coded Categorical Dataset using Pandas"
      ]
    },
    {
      "cell_type": "code",
      "execution_count": null,
      "metadata": {
        "colab": {
          "base_uri": "https://localhost:8080/"
        },
        "id": "mVfZXD37QNlz",
        "outputId": "dce19df8-f9d4-4940-aad9-62a0f7dc3081"
      },
      "outputs": [
        {
          "output_type": "stream",
          "name": "stdout",
          "text": [
            "       Country_code  StockCode_code  InvoiceDate_code\n",
            "0                23            2538               767\n",
            "1                23            1995               767\n",
            "2                23            2170               767\n",
            "3                23            2128               767\n",
            "4                23            2127               767\n",
            "...             ...             ...               ...\n",
            "59993            23             282               364\n",
            "59994            23             287               364\n",
            "59995            23             293               364\n",
            "59996            23             295               364\n",
            "59997            23             296               364\n",
            "\n",
            "[59998 rows x 3 columns]\n"
          ]
        }
      ],
      "source": [
        "# Using Pandas (Inferior)\n",
        "df_cat_mdi_code_pd = df_cat_mdi_code.astype('category')\n",
        "df_cat_mdi_code_pd['Country_code'] = df_cat_mdi_code_pd['Country'].cat.codes\n",
        "df_cat_mdi_code_pd['StockCode_code'] = df_cat_mdi_code_pd['StockCode'].cat.codes\n",
        "df_cat_mdi_code_pd['InvoiceDate_code'] = df_cat_mdi_code_pd['InvoiceDate'].cat.codes\n",
        "\n",
        "# Keep only encoded columns\n",
        "encoded_columns = ['Country_code', 'StockCode_code', 'InvoiceDate_code']\n",
        "df_encoded_only = df_cat_mdi_code_pd[encoded_columns]\n",
        "\n",
        "print(df_encoded_only)\n"
      ]
    },
    {
      "cell_type": "code",
      "execution_count": null,
      "metadata": {
        "colab": {
          "base_uri": "https://localhost:8080/",
          "height": 419
        },
        "id": "JHqaeCCoPSGN",
        "outputId": "26713f3d-c0fa-4b9c-85cd-8c5093f3ea51"
      },
      "outputs": [
        {
          "output_type": "execute_result",
          "data": {
            "text/plain": [
              "       Quantity  UnitPrice  Quantity_std  UnitPrice_std\n",
              "0           6.0       2.55     -0.044108      -0.022610\n",
              "1           6.0       3.39     -0.044108      -0.017088\n",
              "2           8.0       2.75     -0.008863      -0.021295\n",
              "3           6.0       3.39     -0.044108      -0.017088\n",
              "4           6.0       3.39     -0.044108      -0.017088\n",
              "...         ...        ...           ...            ...\n",
              "59993       1.0       0.83     -0.132219      -0.033918\n",
              "59994      17.0       2.46      0.149737      -0.023202\n",
              "59995       1.0       5.79     -0.132219      -0.001310\n",
              "59996       2.0       4.13     -0.114597      -0.012223\n",
              "59997       3.0       1.63     -0.096975      -0.028658\n",
              "\n",
              "[59998 rows x 4 columns]"
            ],
            "text/html": [
              "\n",
              "  <div id=\"df-3fe35090-196a-4bf5-9093-195f02ffeccc\" class=\"colab-df-container\">\n",
              "    <div>\n",
              "<style scoped>\n",
              "    .dataframe tbody tr th:only-of-type {\n",
              "        vertical-align: middle;\n",
              "    }\n",
              "\n",
              "    .dataframe tbody tr th {\n",
              "        vertical-align: top;\n",
              "    }\n",
              "\n",
              "    .dataframe thead th {\n",
              "        text-align: right;\n",
              "    }\n",
              "</style>\n",
              "<table border=\"1\" class=\"dataframe\">\n",
              "  <thead>\n",
              "    <tr style=\"text-align: right;\">\n",
              "      <th></th>\n",
              "      <th>Quantity</th>\n",
              "      <th>UnitPrice</th>\n",
              "      <th>Quantity_std</th>\n",
              "      <th>UnitPrice_std</th>\n",
              "    </tr>\n",
              "  </thead>\n",
              "  <tbody>\n",
              "    <tr>\n",
              "      <th>0</th>\n",
              "      <td>6.0</td>\n",
              "      <td>2.55</td>\n",
              "      <td>-0.044108</td>\n",
              "      <td>-0.022610</td>\n",
              "    </tr>\n",
              "    <tr>\n",
              "      <th>1</th>\n",
              "      <td>6.0</td>\n",
              "      <td>3.39</td>\n",
              "      <td>-0.044108</td>\n",
              "      <td>-0.017088</td>\n",
              "    </tr>\n",
              "    <tr>\n",
              "      <th>2</th>\n",
              "      <td>8.0</td>\n",
              "      <td>2.75</td>\n",
              "      <td>-0.008863</td>\n",
              "      <td>-0.021295</td>\n",
              "    </tr>\n",
              "    <tr>\n",
              "      <th>3</th>\n",
              "      <td>6.0</td>\n",
              "      <td>3.39</td>\n",
              "      <td>-0.044108</td>\n",
              "      <td>-0.017088</td>\n",
              "    </tr>\n",
              "    <tr>\n",
              "      <th>4</th>\n",
              "      <td>6.0</td>\n",
              "      <td>3.39</td>\n",
              "      <td>-0.044108</td>\n",
              "      <td>-0.017088</td>\n",
              "    </tr>\n",
              "    <tr>\n",
              "      <th>...</th>\n",
              "      <td>...</td>\n",
              "      <td>...</td>\n",
              "      <td>...</td>\n",
              "      <td>...</td>\n",
              "    </tr>\n",
              "    <tr>\n",
              "      <th>59993</th>\n",
              "      <td>1.0</td>\n",
              "      <td>0.83</td>\n",
              "      <td>-0.132219</td>\n",
              "      <td>-0.033918</td>\n",
              "    </tr>\n",
              "    <tr>\n",
              "      <th>59994</th>\n",
              "      <td>17.0</td>\n",
              "      <td>2.46</td>\n",
              "      <td>0.149737</td>\n",
              "      <td>-0.023202</td>\n",
              "    </tr>\n",
              "    <tr>\n",
              "      <th>59995</th>\n",
              "      <td>1.0</td>\n",
              "      <td>5.79</td>\n",
              "      <td>-0.132219</td>\n",
              "      <td>-0.001310</td>\n",
              "    </tr>\n",
              "    <tr>\n",
              "      <th>59996</th>\n",
              "      <td>2.0</td>\n",
              "      <td>4.13</td>\n",
              "      <td>-0.114597</td>\n",
              "      <td>-0.012223</td>\n",
              "    </tr>\n",
              "    <tr>\n",
              "      <th>59997</th>\n",
              "      <td>3.0</td>\n",
              "      <td>1.63</td>\n",
              "      <td>-0.096975</td>\n",
              "      <td>-0.028658</td>\n",
              "    </tr>\n",
              "  </tbody>\n",
              "</table>\n",
              "<p>59998 rows × 4 columns</p>\n",
              "</div>\n",
              "    <div class=\"colab-df-buttons\">\n",
              "\n",
              "  <div class=\"colab-df-container\">\n",
              "    <button class=\"colab-df-convert\" onclick=\"convertToInteractive('df-3fe35090-196a-4bf5-9093-195f02ffeccc')\"\n",
              "            title=\"Convert this dataframe to an interactive table.\"\n",
              "            style=\"display:none;\">\n",
              "\n",
              "  <svg xmlns=\"http://www.w3.org/2000/svg\" height=\"24px\" viewBox=\"0 -960 960 960\">\n",
              "    <path d=\"M120-120v-720h720v720H120Zm60-500h600v-160H180v160Zm220 220h160v-160H400v160Zm0 220h160v-160H400v160ZM180-400h160v-160H180v160Zm440 0h160v-160H620v160ZM180-180h160v-160H180v160Zm440 0h160v-160H620v160Z\"/>\n",
              "  </svg>\n",
              "    </button>\n",
              "\n",
              "  <style>\n",
              "    .colab-df-container {\n",
              "      display:flex;\n",
              "      gap: 12px;\n",
              "    }\n",
              "\n",
              "    .colab-df-convert {\n",
              "      background-color: #E8F0FE;\n",
              "      border: none;\n",
              "      border-radius: 50%;\n",
              "      cursor: pointer;\n",
              "      display: none;\n",
              "      fill: #1967D2;\n",
              "      height: 32px;\n",
              "      padding: 0 0 0 0;\n",
              "      width: 32px;\n",
              "    }\n",
              "\n",
              "    .colab-df-convert:hover {\n",
              "      background-color: #E2EBFA;\n",
              "      box-shadow: 0px 1px 2px rgba(60, 64, 67, 0.3), 0px 1px 3px 1px rgba(60, 64, 67, 0.15);\n",
              "      fill: #174EA6;\n",
              "    }\n",
              "\n",
              "    .colab-df-buttons div {\n",
              "      margin-bottom: 4px;\n",
              "    }\n",
              "\n",
              "    [theme=dark] .colab-df-convert {\n",
              "      background-color: #3B4455;\n",
              "      fill: #D2E3FC;\n",
              "    }\n",
              "\n",
              "    [theme=dark] .colab-df-convert:hover {\n",
              "      background-color: #434B5C;\n",
              "      box-shadow: 0px 1px 3px 1px rgba(0, 0, 0, 0.15);\n",
              "      filter: drop-shadow(0px 1px 2px rgba(0, 0, 0, 0.3));\n",
              "      fill: #FFFFFF;\n",
              "    }\n",
              "  </style>\n",
              "\n",
              "    <script>\n",
              "      const buttonEl =\n",
              "        document.querySelector('#df-3fe35090-196a-4bf5-9093-195f02ffeccc button.colab-df-convert');\n",
              "      buttonEl.style.display =\n",
              "        google.colab.kernel.accessAllowed ? 'block' : 'none';\n",
              "\n",
              "      async function convertToInteractive(key) {\n",
              "        const element = document.querySelector('#df-3fe35090-196a-4bf5-9093-195f02ffeccc');\n",
              "        const dataTable =\n",
              "          await google.colab.kernel.invokeFunction('convertToInteractive',\n",
              "                                                    [key], {});\n",
              "        if (!dataTable) return;\n",
              "\n",
              "        const docLinkHtml = 'Like what you see? Visit the ' +\n",
              "          '<a target=\"_blank\" href=https://colab.research.google.com/notebooks/data_table.ipynb>data table notebook</a>'\n",
              "          + ' to learn more about interactive tables.';\n",
              "        element.innerHTML = '';\n",
              "        dataTable['output_type'] = 'display_data';\n",
              "        await google.colab.output.renderOutput(dataTable, element);\n",
              "        const docLink = document.createElement('div');\n",
              "        docLink.innerHTML = docLinkHtml;\n",
              "        element.appendChild(docLink);\n",
              "      }\n",
              "    </script>\n",
              "  </div>\n",
              "\n",
              "\n",
              "<div id=\"df-9f43ffab-7ee8-4e78-8ffd-d8a86f0a296c\">\n",
              "  <button class=\"colab-df-quickchart\" onclick=\"quickchart('df-9f43ffab-7ee8-4e78-8ffd-d8a86f0a296c')\"\n",
              "            title=\"Suggest charts\"\n",
              "            style=\"display:none;\">\n",
              "\n",
              "<svg xmlns=\"http://www.w3.org/2000/svg\" height=\"24px\"viewBox=\"0 0 24 24\"\n",
              "     width=\"24px\">\n",
              "    <g>\n",
              "        <path d=\"M19 3H5c-1.1 0-2 .9-2 2v14c0 1.1.9 2 2 2h14c1.1 0 2-.9 2-2V5c0-1.1-.9-2-2-2zM9 17H7v-7h2v7zm4 0h-2V7h2v10zm4 0h-2v-4h2v4z\"/>\n",
              "    </g>\n",
              "</svg>\n",
              "  </button>\n",
              "\n",
              "<style>\n",
              "  .colab-df-quickchart {\n",
              "      --bg-color: #E8F0FE;\n",
              "      --fill-color: #1967D2;\n",
              "      --hover-bg-color: #E2EBFA;\n",
              "      --hover-fill-color: #174EA6;\n",
              "      --disabled-fill-color: #AAA;\n",
              "      --disabled-bg-color: #DDD;\n",
              "  }\n",
              "\n",
              "  [theme=dark] .colab-df-quickchart {\n",
              "      --bg-color: #3B4455;\n",
              "      --fill-color: #D2E3FC;\n",
              "      --hover-bg-color: #434B5C;\n",
              "      --hover-fill-color: #FFFFFF;\n",
              "      --disabled-bg-color: #3B4455;\n",
              "      --disabled-fill-color: #666;\n",
              "  }\n",
              "\n",
              "  .colab-df-quickchart {\n",
              "    background-color: var(--bg-color);\n",
              "    border: none;\n",
              "    border-radius: 50%;\n",
              "    cursor: pointer;\n",
              "    display: none;\n",
              "    fill: var(--fill-color);\n",
              "    height: 32px;\n",
              "    padding: 0;\n",
              "    width: 32px;\n",
              "  }\n",
              "\n",
              "  .colab-df-quickchart:hover {\n",
              "    background-color: var(--hover-bg-color);\n",
              "    box-shadow: 0 1px 2px rgba(60, 64, 67, 0.3), 0 1px 3px 1px rgba(60, 64, 67, 0.15);\n",
              "    fill: var(--button-hover-fill-color);\n",
              "  }\n",
              "\n",
              "  .colab-df-quickchart-complete:disabled,\n",
              "  .colab-df-quickchart-complete:disabled:hover {\n",
              "    background-color: var(--disabled-bg-color);\n",
              "    fill: var(--disabled-fill-color);\n",
              "    box-shadow: none;\n",
              "  }\n",
              "\n",
              "  .colab-df-spinner {\n",
              "    border: 2px solid var(--fill-color);\n",
              "    border-color: transparent;\n",
              "    border-bottom-color: var(--fill-color);\n",
              "    animation:\n",
              "      spin 1s steps(1) infinite;\n",
              "  }\n",
              "\n",
              "  @keyframes spin {\n",
              "    0% {\n",
              "      border-color: transparent;\n",
              "      border-bottom-color: var(--fill-color);\n",
              "      border-left-color: var(--fill-color);\n",
              "    }\n",
              "    20% {\n",
              "      border-color: transparent;\n",
              "      border-left-color: var(--fill-color);\n",
              "      border-top-color: var(--fill-color);\n",
              "    }\n",
              "    30% {\n",
              "      border-color: transparent;\n",
              "      border-left-color: var(--fill-color);\n",
              "      border-top-color: var(--fill-color);\n",
              "      border-right-color: var(--fill-color);\n",
              "    }\n",
              "    40% {\n",
              "      border-color: transparent;\n",
              "      border-right-color: var(--fill-color);\n",
              "      border-top-color: var(--fill-color);\n",
              "    }\n",
              "    60% {\n",
              "      border-color: transparent;\n",
              "      border-right-color: var(--fill-color);\n",
              "    }\n",
              "    80% {\n",
              "      border-color: transparent;\n",
              "      border-right-color: var(--fill-color);\n",
              "      border-bottom-color: var(--fill-color);\n",
              "    }\n",
              "    90% {\n",
              "      border-color: transparent;\n",
              "      border-bottom-color: var(--fill-color);\n",
              "    }\n",
              "  }\n",
              "</style>\n",
              "\n",
              "  <script>\n",
              "    async function quickchart(key) {\n",
              "      const quickchartButtonEl =\n",
              "        document.querySelector('#' + key + ' button');\n",
              "      quickchartButtonEl.disabled = true;  // To prevent multiple clicks.\n",
              "      quickchartButtonEl.classList.add('colab-df-spinner');\n",
              "      try {\n",
              "        const charts = await google.colab.kernel.invokeFunction(\n",
              "            'suggestCharts', [key], {});\n",
              "      } catch (error) {\n",
              "        console.error('Error during call to suggestCharts:', error);\n",
              "      }\n",
              "      quickchartButtonEl.classList.remove('colab-df-spinner');\n",
              "      quickchartButtonEl.classList.add('colab-df-quickchart-complete');\n",
              "    }\n",
              "    (() => {\n",
              "      let quickchartButtonEl =\n",
              "        document.querySelector('#df-9f43ffab-7ee8-4e78-8ffd-d8a86f0a296c button');\n",
              "      quickchartButtonEl.style.display =\n",
              "        google.colab.kernel.accessAllowed ? 'block' : 'none';\n",
              "    })();\n",
              "  </script>\n",
              "</div>\n",
              "    </div>\n",
              "  </div>\n"
            ],
            "application/vnd.google.colaboratory.intrinsic+json": {
              "type": "dataframe",
              "variable_name": "df_noncat_mdt_std",
              "summary": "{\n  \"name\": \"df_noncat_mdt_std\",\n  \"rows\": 59998,\n  \"fields\": [\n    {\n      \"column\": \"Quantity\",\n      \"properties\": {\n        \"dtype\": \"number\",\n        \"std\": 56.74686593288586,\n        \"min\": -9360.0,\n        \"max\": 3114.0,\n        \"num_unique_values\": 241,\n        \"samples\": [\n          192.0,\n          24.0,\n          1356.0\n        ],\n        \"semantic_type\": \"\",\n        \"description\": \"\"\n      }\n    },\n    {\n      \"column\": \"UnitPrice\",\n      \"properties\": {\n        \"dtype\": \"number\",\n        \"std\": 152.10942723830385,\n        \"min\": 0.0,\n        \"max\": 16888.02,\n        \"num_unique_values\": 394,\n        \"samples\": [\n          5.06,\n          164.55,\n          26.93\n        ],\n        \"semantic_type\": \"\",\n        \"description\": \"\"\n      }\n    },\n    {\n      \"column\": \"Quantity_std\",\n      \"properties\": {\n        \"dtype\": \"number\",\n        \"std\": 1.0000083337152954,\n        \"min\": -165.09424594976196,\n        \"max\": 54.72589300764994,\n        \"num_unique_values\": 241,\n        \"samples\": [\n          3.2336334250334846,\n          0.2730928330144688,\n          23.74595038402238\n        ],\n        \"semantic_type\": \"\",\n        \"description\": \"\"\n      }\n    },\n    {\n      \"column\": \"UnitPrice_std\",\n      \"properties\": {\n        \"dtype\": \"number\",\n        \"std\": 1.0000083337152954,\n        \"min\": -0.03937452021944571,\n        \"max\": 110.98701645745855,\n        \"num_unique_values\": 394,\n        \"samples\": [\n          -0.006108717695108893,\n          1.0424214887488592,\n          0.13767055131818087\n        ],\n        \"semantic_type\": \"\",\n        \"description\": \"\"\n      }\n    }\n  ]\n}"
            }
          },
          "metadata": {},
          "execution_count": 64
        }
      ],
      "source": [
        "# 3.1. Standardization\n",
        "ss_quantity = StandardScaler()  # StandardScaler for Quantity\n",
        "ss_unit_price = StandardScaler()  # StandardScaler for UnitPrice\n",
        "\n",
        "ss_fit_quantity = ss_quantity.fit_transform(df_noncat_mdi_si[['Quantity']])  # Fitting and transforming Quantity\n",
        "ss_fit_unit_price = ss_unit_price.fit_transform(df_noncat_mdi_si[['UnitPrice']])  # Fitting and transforming UnitPrice\n",
        "\n",
        "# Creating DataFrame for standardized data\n",
        "df_quantity_std = pd.DataFrame(ss_fit_quantity, columns=['Quantity_std'])\n",
        "df_unit_price_std = pd.DataFrame(ss_fit_unit_price, columns=['UnitPrice_std'])\n",
        "\n",
        "# Joining standardized data with the original DataFrame\n",
        "df_noncat_mdt_std = df_noncat_mdi_si.join([df_quantity_std, df_unit_price_std])\n",
        "df_noncat_mdt_std"
      ]
    },
    {
      "cell_type": "code",
      "execution_count": null,
      "metadata": {
        "colab": {
          "base_uri": "https://localhost:8080/"
        },
        "id": "DYgNskoUPpta",
        "outputId": "9933d0ca-0c74-452b-9b9b-7b182fdf2af5"
      },
      "outputs": [
        {
          "output_type": "stream",
          "name": "stdout",
          "text": [
            "       Quantity_std  UnitPrice_std\n",
            "0         -0.044108      -0.022610\n",
            "1         -0.044108      -0.017088\n",
            "2         -0.008863      -0.021295\n",
            "3         -0.044108      -0.017088\n",
            "4         -0.044108      -0.017088\n",
            "...             ...            ...\n",
            "59993     -0.132219      -0.033918\n",
            "59994      0.149737      -0.023202\n",
            "59995     -0.132219      -0.001310\n",
            "59996     -0.114597      -0.012223\n",
            "59997     -0.096975      -0.028658\n",
            "\n",
            "[59998 rows x 2 columns]\n"
          ]
        }
      ],
      "source": [
        "# 3.1. Standardization\n",
        "ss_quantity = StandardScaler()  # StandardScaler for Quantity\n",
        "ss_unit_price = StandardScaler()  # StandardScaler for UnitPrice\n",
        "\n",
        "ss_fit_quantity = ss_quantity.fit_transform(df_noncat_mdi_si[['Quantity']])  # Fitting and transforming Quantity\n",
        "ss_fit_unit_price = ss_unit_price.fit_transform(df_noncat_mdi_si[['UnitPrice']])  # Fitting and transforming UnitPrice\n",
        "\n",
        "# Creating DataFrame for standardized data\n",
        "df_quantity_std = pd.DataFrame(ss_fit_quantity, columns=['Quantity_std'])\n",
        "df_unit_price_std = pd.DataFrame(ss_fit_unit_price, columns=['UnitPrice_std'])\n",
        "\n",
        "# Joining standardized data with the original DataFrame\n",
        "df_noncat_mdt_std = pd.concat([df_quantity_std, df_unit_price_std], axis=1)  # Concatenating standardized columns\n",
        "\n",
        "# Dropping original columns from df_noncat_mdi_si\n",
        "df_noncat_mdi_si.drop(['Quantity', 'UnitPrice'], axis=1, inplace=True)\n",
        "\n",
        "# Checking the resulting DataFrame\n",
        "print(df_noncat_mdt_std)\n"
      ]
    },
    {
      "cell_type": "code",
      "execution_count": null,
      "metadata": {
        "colab": {
          "base_uri": "https://localhost:8080/",
          "height": 624
        },
        "id": "dCu3kZOtQCDk",
        "outputId": "3545bdca-7a74-4091-9017-0cb3a9d78bb5"
      },
      "outputs": [
        {
          "output_type": "display_data",
          "data": {
            "text/plain": [
              "<Figure size 1000x600 with 1 Axes>"
            ],
            "image/png": "[encoded data removed]"
          },
          "metadata": {}
        }
      ],
      "source": [
        "import matplotlib.pyplot as plt\n",
        "\n",
        "# Creating box plots for standardized columns\n",
        "df_noncat_mdt_std.boxplot(figsize=(10, 6))\n",
        "plt.title('Box Plot of Standardized Columns')\n",
        "plt.ylabel('Standardized Values')\n",
        "plt.xlabel('Columns')\n",
        "plt.xticks(rotation=45)  # Rotate x-axis labels for better visibility\n",
        "plt.grid(True)\n",
        "plt.show()\n"
      ]
    },
    {
      "cell_type": "raw",
      "metadata": {
        "id": "PWEQ-nYsQuWD",
        "outputId": "95a114b8-f579-44e4-ea9b-74a5fb5fa630"
      },
      "source": [
        "import matplotlib.pyplot as plt\n",
        "\n",
        "# Function to remove outliers using the IQR method\n",
        "def remove_outliers(df, columns):\n",
        "    for col in columns:\n",
        "        Q1 = df[col].quantile(0.25)\n",
        "        Q3 = df[col].quantile(0.75)\n",
        "        IQR = Q3 - Q1\n",
        "        lower_bound = Q1 - 1.5 * IQR\n",
        "        upper_bound = Q3 + 1.5 * IQR\n",
        "        df = df[(df[col] >= lower_bound) & (df[col] <= upper_bound)]\n",
        "    return df\n",
        "\n",
        "# Removing outliers from standardized columns\n",
        "columns_to_check = ['Quantity_std', 'UnitPrice_std']\n",
        "df_noncat_mdt_std_no_outliers = remove_outliers(df_noncat_mdt_std, columns_to_check)\n",
        "\n",
        "# Creating box plots for standardized columns without outliers\n",
        "df_noncat_mdt_std_no_outliers.boxplot(figsize=(10, 6))\n",
        "plt.title('Box Plot of Standardized Columns without Outliers')\n",
        "plt.ylabel('Standardized Values')\n",
        "plt.xlabel('Columns')\n",
        "plt.xticks(rotation=45)  # Rotate x-axis labels for better visibility\n",
        "plt.grid(True)\n",
        "plt.show()\n"
      ]
    },
    {
      "cell_type": "code",
      "execution_count": null,
      "metadata": {
        "colab": {
          "base_uri": "https://localhost:8080/",
          "height": 419
        },
        "id": "dCnOM_4nSlGh",
        "outputId": "16318162-fc60-42fa-d0e5-508fb019dbf8"
      },
      "outputs": [
        {
          "output_type": "execute_result",
          "data": {
            "text/plain": [
              "       Quantity_std  UnitPrice_std  Country_code  StockCode_code  \\\n",
              "0         -0.044108      -0.022610            23            2538   \n",
              "1         -0.044108      -0.017088            23            1995   \n",
              "2         -0.008863      -0.021295            23            2170   \n",
              "3         -0.044108      -0.017088            23            2128   \n",
              "4         -0.044108      -0.017088            23            2127   \n",
              "...             ...            ...           ...             ...   \n",
              "59993     -0.132219      -0.033918            23             282   \n",
              "59994      0.149737      -0.023202            23             287   \n",
              "59995     -0.132219      -0.001310            23             293   \n",
              "59996     -0.114597      -0.012223            23             295   \n",
              "59997     -0.096975      -0.028658            23             296   \n",
              "\n",
              "       InvoiceDate_code  \n",
              "0                   767  \n",
              "1                   767  \n",
              "2                   767  \n",
              "3                   767  \n",
              "4                   767  \n",
              "...                 ...  \n",
              "59993               364  \n",
              "59994               364  \n",
              "59995               364  \n",
              "59996               364  \n",
              "59997               364  \n",
              "\n",
              "[59998 rows x 5 columns]"
            ],
            "text/html": [
              "\n",
              "  <div id=\"df-25573a8e-68f1-4cc5-ac19-b3b17a0a1a70\" class=\"colab-df-container\">\n",
              "    <div>\n",
              "<style scoped>\n",
              "    .dataframe tbody tr th:only-of-type {\n",
              "        vertical-align: middle;\n",
              "    }\n",
              "\n",
              "    .dataframe tbody tr th {\n",
              "        vertical-align: top;\n",
              "    }\n",
              "\n",
              "    .dataframe thead th {\n",
              "        text-align: right;\n",
              "    }\n",
              "</style>\n",
              "<table border=\"1\" class=\"dataframe\">\n",
              "  <thead>\n",
              "    <tr style=\"text-align: right;\">\n",
              "      <th></th>\n",
              "      <th>Quantity_std</th>\n",
              "      <th>UnitPrice_std</th>\n",
              "      <th>Country_code</th>\n",
              "      <th>StockCode_code</th>\n",
              "      <th>InvoiceDate_code</th>\n",
              "    </tr>\n",
              "  </thead>\n",
              "  <tbody>\n",
              "    <tr>\n",
              "      <th>0</th>\n",
              "      <td>-0.044108</td>\n",
              "      <td>-0.022610</td>\n",
              "      <td>23</td>\n",
              "      <td>2538</td>\n",
              "      <td>767</td>\n",
              "    </tr>\n",
              "    <tr>\n",
              "      <th>1</th>\n",
              "      <td>-0.044108</td>\n",
              "      <td>-0.017088</td>\n",
              "      <td>23</td>\n",
              "      <td>1995</td>\n",
              "      <td>767</td>\n",
              "    </tr>\n",
              "    <tr>\n",
              "      <th>2</th>\n",
              "      <td>-0.008863</td>\n",
              "      <td>-0.021295</td>\n",
              "      <td>23</td>\n",
              "      <td>2170</td>\n",
              "      <td>767</td>\n",
              "    </tr>\n",
              "    <tr>\n",
              "      <th>3</th>\n",
              "      <td>-0.044108</td>\n",
              "      <td>-0.017088</td>\n",
              "      <td>23</td>\n",
              "      <td>2128</td>\n",
              "      <td>767</td>\n",
              "    </tr>\n",
              "    <tr>\n",
              "      <th>4</th>\n",
              "      <td>-0.044108</td>\n",
              "      <td>-0.017088</td>\n",
              "      <td>23</td>\n",
              "      <td>2127</td>\n",
              "      <td>767</td>\n",
              "    </tr>\n",
              "    <tr>\n",
              "      <th>...</th>\n",
              "      <td>...</td>\n",
              "      <td>...</td>\n",
              "      <td>...</td>\n",
              "      <td>...</td>\n",
              "      <td>...</td>\n",
              "    </tr>\n",
              "    <tr>\n",
              "      <th>59993</th>\n",
              "      <td>-0.132219</td>\n",
              "      <td>-0.033918</td>\n",
              "      <td>23</td>\n",
              "      <td>282</td>\n",
              "      <td>364</td>\n",
              "    </tr>\n",
              "    <tr>\n",
              "      <th>59994</th>\n",
              "      <td>0.149737</td>\n",
              "      <td>-0.023202</td>\n",
              "      <td>23</td>\n",
              "      <td>287</td>\n",
              "      <td>364</td>\n",
              "    </tr>\n",
              "    <tr>\n",
              "      <th>59995</th>\n",
              "      <td>-0.132219</td>\n",
              "      <td>-0.001310</td>\n",
              "      <td>23</td>\n",
              "      <td>293</td>\n",
              "      <td>364</td>\n",
              "    </tr>\n",
              "    <tr>\n",
              "      <th>59996</th>\n",
              "      <td>-0.114597</td>\n",
              "      <td>-0.012223</td>\n",
              "      <td>23</td>\n",
              "      <td>295</td>\n",
              "      <td>364</td>\n",
              "    </tr>\n",
              "    <tr>\n",
              "      <th>59997</th>\n",
              "      <td>-0.096975</td>\n",
              "      <td>-0.028658</td>\n",
              "      <td>23</td>\n",
              "      <td>296</td>\n",
              "      <td>364</td>\n",
              "    </tr>\n",
              "  </tbody>\n",
              "</table>\n",
              "<p>59998 rows × 5 columns</p>\n",
              "</div>\n",
              "    <div class=\"colab-df-buttons\">\n",
              "\n",
              "  <div class=\"colab-df-container\">\n",
              "    <button class=\"colab-df-convert\" onclick=\"convertToInteractive('df-25573a8e-68f1-4cc5-ac19-b3b17a0a1a70')\"\n",
              "            title=\"Convert this dataframe to an interactive table.\"\n",
              "            style=\"display:none;\">\n",
              "\n",
              "  <svg xmlns=\"http://www.w3.org/2000/svg\" height=\"24px\" viewBox=\"0 -960 960 960\">\n",
              "    <path d=\"M120-120v-720h720v720H120Zm60-500h600v-160H180v160Zm220 220h160v-160H400v160Zm0 220h160v-160H400v160ZM180-400h160v-160H180v160Zm440 0h160v-160H620v160ZM180-180h160v-160H180v160Zm440 0h160v-160H620v160Z\"/>\n",
              "  </svg>\n",
              "    </button>\n",
              "\n",
              "  <style>\n",
              "    .colab-df-container {\n",
              "      display:flex;\n",
              "      gap: 12px;\n",
              "    }\n",
              "\n",
              "    .colab-df-convert {\n",
              "      background-color: #E8F0FE;\n",
              "      border: none;\n",
              "      border-radius: 50%;\n",
              "      cursor: pointer;\n",
              "      display: none;\n",
              "      fill: #1967D2;\n",
              "      height: 32px;\n",
              "      padding: 0 0 0 0;\n",
              "      width: 32px;\n",
              "    }\n",
              "\n",
              "    .colab-df-convert:hover {\n",
              "      background-color: #E2EBFA;\n",
              "      box-shadow: 0px 1px 2px rgba(60, 64, 67, 0.3), 0px 1px 3px 1px rgba(60, 64, 67, 0.15);\n",
              "      fill: #174EA6;\n",
              "    }\n",
              "\n",
              "    .colab-df-buttons div {\n",
              "      margin-bottom: 4px;\n",
              "    }\n",
              "\n",
              "    [theme=dark] .colab-df-convert {\n",
              "      background-color: #3B4455;\n",
              "      fill: #D2E3FC;\n",
              "    }\n",
              "\n",
              "    [theme=dark] .colab-df-convert:hover {\n",
              "      background-color: #434B5C;\n",
              "      box-shadow: 0px 1px 3px 1px rgba(0, 0, 0, 0.15);\n",
              "      filter: drop-shadow(0px 1px 2px rgba(0, 0, 0, 0.3));\n",
              "      fill: #FFFFFF;\n",
              "    }\n",
              "  </style>\n",
              "\n",
              "    <script>\n",
              "      const buttonEl =\n",
              "        document.querySelector('#df-25573a8e-68f1-4cc5-ac19-b3b17a0a1a70 button.colab-df-convert');\n",
              "      buttonEl.style.display =\n",
              "        google.colab.kernel.accessAllowed ? 'block' : 'none';\n",
              "\n",
              "      async function convertToInteractive(key) {\n",
              "        const element = document.querySelector('#df-25573a8e-68f1-4cc5-ac19-b3b17a0a1a70');\n",
              "        const dataTable =\n",
              "          await google.colab.kernel.invokeFunction('convertToInteractive',\n",
              "                                                    [key], {});\n",
              "        if (!dataTable) return;\n",
              "\n",
              "        const docLinkHtml = 'Like what you see? Visit the ' +\n",
              "          '<a target=\"_blank\" href=https://colab.research.google.com/notebooks/data_table.ipynb>data table notebook</a>'\n",
              "          + ' to learn more about interactive tables.';\n",
              "        element.innerHTML = '';\n",
              "        dataTable['output_type'] = 'display_data';\n",
              "        await google.colab.output.renderOutput(dataTable, element);\n",
              "        const docLink = document.createElement('div');\n",
              "        docLink.innerHTML = docLinkHtml;\n",
              "        element.appendChild(docLink);\n",
              "      }\n",
              "    </script>\n",
              "  </div>\n",
              "\n",
              "\n",
              "<div id=\"df-df0ac910-acf8-4305-bf92-8194d3a64cfe\">\n",
              "  <button class=\"colab-df-quickchart\" onclick=\"quickchart('df-df0ac910-acf8-4305-bf92-8194d3a64cfe')\"\n",
              "            title=\"Suggest charts\"\n",
              "            style=\"display:none;\">\n",
              "\n",
              "<svg xmlns=\"http://www.w3.org/2000/svg\" height=\"24px\"viewBox=\"0 0 24 24\"\n",
              "     width=\"24px\">\n",
              "    <g>\n",
              "        <path d=\"M19 3H5c-1.1 0-2 .9-2 2v14c0 1.1.9 2 2 2h14c1.1 0 2-.9 2-2V5c0-1.1-.9-2-2-2zM9 17H7v-7h2v7zm4 0h-2V7h2v10zm4 0h-2v-4h2v4z\"/>\n",
              "    </g>\n",
              "</svg>\n",
              "  </button>\n",
              "\n",
              "<style>\n",
              "  .colab-df-quickchart {\n",
              "      --bg-color: #E8F0FE;\n",
              "      --fill-color: #1967D2;\n",
              "      --hover-bg-color: #E2EBFA;\n",
              "      --hover-fill-color: #174EA6;\n",
              "      --disabled-fill-color: #AAA;\n",
              "      --disabled-bg-color: #DDD;\n",
              "  }\n",
              "\n",
              "  [theme=dark] .colab-df-quickchart {\n",
              "      --bg-color: #3B4455;\n",
              "      --fill-color: #D2E3FC;\n",
              "      --hover-bg-color: #434B5C;\n",
              "      --hover-fill-color: #FFFFFF;\n",
              "      --disabled-bg-color: #3B4455;\n",
              "      --disabled-fill-color: #666;\n",
              "  }\n",
              "\n",
              "  .colab-df-quickchart {\n",
              "    background-color: var(--bg-color);\n",
              "    border: none;\n",
              "    border-radius: 50%;\n",
              "    cursor: pointer;\n",
              "    display: none;\n",
              "    fill: var(--fill-color);\n",
              "    height: 32px;\n",
              "    padding: 0;\n",
              "    width: 32px;\n",
              "  }\n",
              "\n",
              "  .colab-df-quickchart:hover {\n",
              "    background-color: var(--hover-bg-color);\n",
              "    box-shadow: 0 1px 2px rgba(60, 64, 67, 0.3), 0 1px 3px 1px rgba(60, 64, 67, 0.15);\n",
              "    fill: var(--button-hover-fill-color);\n",
              "  }\n",
              "\n",
              "  .colab-df-quickchart-complete:disabled,\n",
              "  .colab-df-quickchart-complete:disabled:hover {\n",
              "    background-color: var(--disabled-bg-color);\n",
              "    fill: var(--disabled-fill-color);\n",
              "    box-shadow: none;\n",
              "  }\n",
              "\n",
              "  .colab-df-spinner {\n",
              "    border: 2px solid var(--fill-color);\n",
              "    border-color: transparent;\n",
              "    border-bottom-color: var(--fill-color);\n",
              "    animation:\n",
              "      spin 1s steps(1) infinite;\n",
              "  }\n",
              "\n",
              "  @keyframes spin {\n",
              "    0% {\n",
              "      border-color: transparent;\n",
              "      border-bottom-color: var(--fill-color);\n",
              "      border-left-color: var(--fill-color);\n",
              "    }\n",
              "    20% {\n",
              "      border-color: transparent;\n",
              "      border-left-color: var(--fill-color);\n",
              "      border-top-color: var(--fill-color);\n",
              "    }\n",
              "    30% {\n",
              "      border-color: transparent;\n",
              "      border-left-color: var(--fill-color);\n",
              "      border-top-color: var(--fill-color);\n",
              "      border-right-color: var(--fill-color);\n",
              "    }\n",
              "    40% {\n",
              "      border-color: transparent;\n",
              "      border-right-color: var(--fill-color);\n",
              "      border-top-color: var(--fill-color);\n",
              "    }\n",
              "    60% {\n",
              "      border-color: transparent;\n",
              "      border-right-color: var(--fill-color);\n",
              "    }\n",
              "    80% {\n",
              "      border-color: transparent;\n",
              "      border-right-color: var(--fill-color);\n",
              "      border-bottom-color: var(--fill-color);\n",
              "    }\n",
              "    90% {\n",
              "      border-color: transparent;\n",
              "      border-bottom-color: var(--fill-color);\n",
              "    }\n",
              "  }\n",
              "</style>\n",
              "\n",
              "  <script>\n",
              "    async function quickchart(key) {\n",
              "      const quickchartButtonEl =\n",
              "        document.querySelector('#' + key + ' button');\n",
              "      quickchartButtonEl.disabled = true;  // To prevent multiple clicks.\n",
              "      quickchartButtonEl.classList.add('colab-df-spinner');\n",
              "      try {\n",
              "        const charts = await google.colab.kernel.invokeFunction(\n",
              "            'suggestCharts', [key], {});\n",
              "      } catch (error) {\n",
              "        console.error('Error during call to suggestCharts:', error);\n",
              "      }\n",
              "      quickchartButtonEl.classList.remove('colab-df-spinner');\n",
              "      quickchartButtonEl.classList.add('colab-df-quickchart-complete');\n",
              "    }\n",
              "    (() => {\n",
              "      let quickchartButtonEl =\n",
              "        document.querySelector('#df-df0ac910-acf8-4305-bf92-8194d3a64cfe button');\n",
              "      quickchartButtonEl.style.display =\n",
              "        google.colab.kernel.accessAllowed ? 'block' : 'none';\n",
              "    })();\n",
              "  </script>\n",
              "</div>\n",
              "    </div>\n",
              "  </div>\n"
            ],
            "application/vnd.google.colaboratory.intrinsic+json": {
              "type": "dataframe",
              "variable_name": "merged_df",
              "summary": "{\n  \"name\": \"merged_df\",\n  \"rows\": 59998,\n  \"fields\": [\n    {\n      \"column\": \"Quantity_std\",\n      \"properties\": {\n        \"dtype\": \"number\",\n        \"std\": 1.0000083337152954,\n        \"min\": -165.09424594976196,\n        \"max\": 54.72589300764994,\n        \"num_unique_values\": 241,\n        \"samples\": [\n          3.2336334250334846,\n          0.2730928330144688,\n          23.74595038402238\n        ],\n        \"semantic_type\": \"\",\n        \"description\": \"\"\n      }\n    },\n    {\n      \"column\": \"UnitPrice_std\",\n      \"properties\": {\n        \"dtype\": \"number\",\n        \"std\": 1.0000083337152954,\n        \"min\": -0.03937452021944571,\n        \"max\": 110.98701645745855,\n        \"num_unique_values\": 394,\n        \"samples\": [\n          -0.006108717695108893,\n          1.0424214887488592,\n          0.13767055131818087\n        ],\n        \"semantic_type\": \"\",\n        \"description\": \"\"\n      }\n    },\n    {\n      \"column\": \"Country_code\",\n      \"properties\": {\n        \"dtype\": \"int8\",\n        \"num_unique_values\": 24,\n        \"samples\": [\n          20,\n          4,\n          23\n        ],\n        \"semantic_type\": \"\",\n        \"description\": \"\"\n      }\n    },\n    {\n      \"column\": \"StockCode_code\",\n      \"properties\": {\n        \"dtype\": \"int16\",\n        \"num_unique_values\": 2950,\n        \"samples\": [\n          852,\n          1272,\n          48\n        ],\n        \"semantic_type\": \"\",\n        \"description\": \"\"\n      }\n    },\n    {\n      \"column\": \"InvoiceDate_code\",\n      \"properties\": {\n        \"dtype\": \"int16\",\n        \"num_unique_values\": 2435,\n        \"samples\": [\n          34,\n          833,\n          1364\n        ],\n        \"semantic_type\": \"\",\n        \"description\": \"\"\n      }\n    }\n  ]\n}"
            }
          },
          "metadata": {},
          "execution_count": 67
        }
      ],
      "source": [
        "# Merge df_noncat_mdt_std_no_outliers and df_encoded_only based on common columns\n",
        "merged_df = pd.merge(df_noncat_mdt_std, df_encoded_only, left_index=True, right_index=True)\n",
        "\n",
        "# Display the merged DataFrame\n",
        "merged_df\n"
      ]
    },
    {
      "cell_type": "code",
      "execution_count": null,
      "metadata": {
        "id": "HEcJdyYYTu3w"
      },
      "outputs": [],
      "source": [
        "# Required Libraries\n",
        "\n",
        "import pandas as pd, numpy as np # For Data Manipulation\n",
        "import matplotlib.pyplot as plt, seaborn as sns # For Data Visualization\n",
        "import scipy.cluster.hierarchy as sch # For Hierarchical Clustering\n",
        "from sklearn.cluster import AgglomerativeClustering as agclus, KMeans as kmclus # For Agglomerative & K-Means Clustering\n",
        "from sklearn.metrics import silhouette_score as sscore, davies_bouldin_score as dbscore # For Clustering Model Evaluation"
      ]
    },
    {
      "cell_type": "code",
      "execution_count": null,
      "metadata": {
        "colab": {
          "base_uri": "https://localhost:8080/",
          "height": 832
        },
        "id": "P5eCyyz2S2Cx",
        "outputId": "27ba4785-ca72-44d8-c50e-71ea5c9e7a28"
      },
      "outputs": [
        {
          "output_type": "stream",
          "name": "stderr",
          "text": [
            "/usr/local/lib/python3.10/dist-packages/sklearn/cluster/_kmeans.py:870: FutureWarning: The default value of `n_init` will change from 10 to 'auto' in 1.4. Set the value of `n_init` explicitly to suppress the warning\n",
            "  warnings.warn(\n",
            "/usr/local/lib/python3.10/dist-packages/sklearn/cluster/_kmeans.py:870: FutureWarning: The default value of `n_init` will change from 10 to 'auto' in 1.4. Set the value of `n_init` explicitly to suppress the warning\n",
            "  warnings.warn(\n",
            "/usr/local/lib/python3.10/dist-packages/sklearn/cluster/_kmeans.py:870: FutureWarning: The default value of `n_init` will change from 10 to 'auto' in 1.4. Set the value of `n_init` explicitly to suppress the warning\n",
            "  warnings.warn(\n",
            "/usr/local/lib/python3.10/dist-packages/sklearn/cluster/_kmeans.py:870: FutureWarning: The default value of `n_init` will change from 10 to 'auto' in 1.4. Set the value of `n_init` explicitly to suppress the warning\n",
            "  warnings.warn(\n",
            "/usr/local/lib/python3.10/dist-packages/sklearn/cluster/_kmeans.py:870: FutureWarning: The default value of `n_init` will change from 10 to 'auto' in 1.4. Set the value of `n_init` explicitly to suppress the warning\n",
            "  warnings.warn(\n",
            "/usr/local/lib/python3.10/dist-packages/sklearn/cluster/_kmeans.py:870: FutureWarning: The default value of `n_init` will change from 10 to 'auto' in 1.4. Set the value of `n_init` explicitly to suppress the warning\n",
            "  warnings.warn(\n",
            "/usr/local/lib/python3.10/dist-packages/sklearn/cluster/_kmeans.py:870: FutureWarning: The default value of `n_init` will change from 10 to 'auto' in 1.4. Set the value of `n_init` explicitly to suppress the warning\n",
            "  warnings.warn(\n",
            "/usr/local/lib/python3.10/dist-packages/sklearn/cluster/_kmeans.py:870: FutureWarning: The default value of `n_init` will change from 10 to 'auto' in 1.4. Set the value of `n_init` explicitly to suppress the warning\n",
            "  warnings.warn(\n",
            "/usr/local/lib/python3.10/dist-packages/sklearn/cluster/_kmeans.py:870: FutureWarning: The default value of `n_init` will change from 10 to 'auto' in 1.4. Set the value of `n_init` explicitly to suppress the warning\n",
            "  warnings.warn(\n",
            "/usr/local/lib/python3.10/dist-packages/sklearn/cluster/_kmeans.py:870: FutureWarning: The default value of `n_init` will change from 10 to 'auto' in 1.4. Set the value of `n_init` explicitly to suppress the warning\n",
            "  warnings.warn(\n"
          ]
        },
        {
          "output_type": "display_data",
          "data": {
            "text/plain": [
              "<Figure size 640x480 with 1 Axes>"
            ],
            "image/png": "[encoded data removed]"
          },
          "metadata": {}
        }
      ],
      "source": [
        "wcssd = [] # Within-Cluster-Sum-Squared-Distance\n",
        "nr_clus = range(1,11) # Number of Clusters\n",
        "for k in nr_clus:\n",
        "    kmeans = kmclus(n_clusters=k, init='random', random_state=111)\n",
        "    kmeans.fit(merged_df)\n",
        "    wcssd.append(kmeans.inertia_)\n",
        "plt.plot(nr_clus, wcssd, marker='x')\n",
        "plt.xlabel('Values of K')\n",
        "plt.ylabel('Within Cluster Sum Squared Distance')\n",
        "plt.title('Elbow Curve for Optimal K')\n",
        "plt.show()"
      ]
    },
    {
      "cell_type": "code",
      "execution_count": null,
      "metadata": {
        "colab": {
          "base_uri": "https://localhost:8080/"
        },
        "id": "URKxGOc6Tln3",
        "outputId": "7c846784-b920-4edf-f3c1-f08e7631a2ff"
      },
      "outputs": [
        {
          "output_type": "stream",
          "name": "stderr",
          "text": [
            "/usr/local/lib/python3.10/dist-packages/sklearn/cluster/_kmeans.py:870: FutureWarning: The default value of `n_init` will change from 10 to 'auto' in 1.4. Set the value of `n_init` explicitly to suppress the warning\n",
            "  warnings.warn(\n"
          ]
        },
        {
          "output_type": "execute_result",
          "data": {
            "text/plain": [
              "array([2, 2, 2, ..., 1, 1, 1], dtype=int32)"
            ]
          },
          "metadata": {},
          "execution_count": 71
        }
      ],
      "source": [
        "km_3cluster = kmclus(n_clusters=3, init='random', random_state=333)\n",
        "km_3cluster_model = km_3cluster.fit_predict(merged_df); km_3cluster_model"
      ]
    },
    {
      "cell_type": "code",
      "execution_count": null,
      "metadata": {
        "colab": {
          "base_uri": "https://localhost:8080/"
        },
        "id": "97295lDTUo68",
        "outputId": "60ac73e9-6088-4f54-c6e8-5e022ffd418e"
      },
      "outputs": [
        {
          "output_type": "stream",
          "name": "stderr",
          "text": [
            "/usr/local/lib/python3.10/dist-packages/sklearn/cluster/_kmeans.py:870: FutureWarning: The default value of `n_init` will change from 10 to 'auto' in 1.4. Set the value of `n_init` explicitly to suppress the warning\n",
            "  warnings.warn(\n"
          ]
        },
        {
          "output_type": "execute_result",
          "data": {
            "text/plain": [
              "array([2, 2, 2, ..., 1, 1, 1], dtype=int32)"
            ]
          },
          "metadata": {},
          "execution_count": 72
        }
      ],
      "source": [
        "km_4cluster = kmclus(n_clusters=4, init='random', random_state=333)\n",
        "km_4cluster_model = km_3cluster.fit_predict(merged_df); km_3cluster_model"
      ]
    },
    {
      "cell_type": "code",
      "execution_count": null,
      "metadata": {
        "colab": {
          "base_uri": "https://localhost:8080/"
        },
        "id": "l0tg7tYeU4L7",
        "outputId": "36eb0bf7-187c-45b9-a99d-2ad343e909a9"
      },
      "outputs": [
        {
          "output_type": "stream",
          "name": "stderr",
          "text": [
            "/usr/local/lib/python3.10/dist-packages/sklearn/cluster/_kmeans.py:870: FutureWarning: The default value of `n_init` will change from 10 to 'auto' in 1.4. Set the value of `n_init` explicitly to suppress the warning\n",
            "  warnings.warn(\n"
          ]
        },
        {
          "output_type": "execute_result",
          "data": {
            "text/plain": [
              "array([3, 3, 3, ..., 4, 4, 4], dtype=int32)"
            ]
          },
          "metadata": {},
          "execution_count": 73
        }
      ],
      "source": [
        "km_5cluster = kmclus(n_clusters=5, init='random', random_state=333)\n",
        "km_5cluster_model = km_5cluster.fit_predict(merged_df); km_5cluster_model"
      ]
    },
    {
      "cell_type": "code",
      "source": [
        "sscore_km_3cluster = sscore(merged_df, km_3cluster_model); sscore_km_3cluster"
      ],
      "metadata": {
        "colab": {
          "base_uri": "https://localhost:8080/"
        },
        "id": "kjqKFdW4yz82",
        "outputId": "7843fdb6-96b0-4efd-d2cf-a6e5d46d6692"
      },
      "execution_count": null,
      "outputs": [
        {
          "output_type": "execute_result",
          "data": {
            "text/plain": [
              "0.3872825863038311"
            ]
          },
          "metadata": {},
          "execution_count": 75
        }
      ]
    },
    {
      "cell_type": "code",
      "source": [
        "sscore_km_4cluster = sscore(merged_df, km_4cluster_model); sscore_km_4cluster"
      ],
      "metadata": {
        "colab": {
          "base_uri": "https://localhost:8080/"
        },
        "id": "upgiR1Re-WB-",
        "outputId": "3dceb29e-988b-441d-e7e3-5cabf392ea7f"
      },
      "execution_count": null,
      "outputs": [
        {
          "output_type": "execute_result",
          "data": {
            "text/plain": [
              "0.3872825863038311"
            ]
          },
          "metadata": {},
          "execution_count": 76
        }
      ]
    },
    {
      "cell_type": "code",
      "source": [
        "sscore_km_5cluster = sscore(merged_df, km_5cluster_model); sscore_km_5cluster"
      ],
      "metadata": {
        "colab": {
          "base_uri": "https://localhost:8080/"
        },
        "id": "y7kud4yp-n-X",
        "outputId": "12521240-7f06-4812-b6c1-95881c20c264"
      },
      "execution_count": null,
      "outputs": [
        {
          "output_type": "execute_result",
          "data": {
            "text/plain": [
              "0.3805763845791452"
            ]
          },
          "metadata": {},
          "execution_count": 77
        }
      ]
    },
    {
      "cell_type": "code",
      "source": [
        "dbscore_km_3cluster = dbscore(merged_df, km_3cluster_model); dbscore_km_3cluster"
      ],
      "metadata": {
        "colab": {
          "base_uri": "https://localhost:8080/"
        },
        "id": "f5syipoI_DQs",
        "outputId": "17479a65-d614-45ca-bc53-222e347ec826"
      },
      "execution_count": null,
      "outputs": [
        {
          "output_type": "execute_result",
          "data": {
            "text/plain": [
              "0.8745690017372661"
            ]
          },
          "metadata": {},
          "execution_count": 78
        }
      ]
    },
    {
      "cell_type": "code",
      "source": [
        "dbscore_km_4cluster = dbscore(merged_df, km_4cluster_model); dbscore_km_4cluster"
      ],
      "metadata": {
        "colab": {
          "base_uri": "https://localhost:8080/"
        },
        "id": "ePMg87dC_LuA",
        "outputId": "8763e994-71cf-48ed-d99c-6c88b4ef911b"
      },
      "execution_count": null,
      "outputs": [
        {
          "output_type": "execute_result",
          "data": {
            "text/plain": [
              "0.8745690017372661"
            ]
          },
          "metadata": {},
          "execution_count": 79
        }
      ]
    },
    {
      "cell_type": "code",
      "source": [
        "dbscore_km_5cluster = dbscore(merged_df, km_5cluster_model); dbscore_km_5cluster"
      ],
      "metadata": {
        "colab": {
          "base_uri": "https://localhost:8080/"
        },
        "id": "IuoLPLWK_PFn",
        "outputId": "b03cfbe0-79fb-44d9-9711-708a59ade9a8"
      },
      "execution_count": null,
      "outputs": [
        {
          "output_type": "execute_result",
          "data": {
            "text/plain": [
              "0.8695240929207453"
            ]
          },
          "metadata": {},
          "execution_count": 80
        }
      ]
    },
    {
      "cell_type": "code",
      "source": [
        "from scipy.stats import f_oneway\n",
        "\n",
        "# Extracting the columns from the DataFrame\n",
        "quantity = df_noncat['Quantity']\n",
        "unit_price = df_noncat['UnitPrice']\n",
        "\n",
        "# Performing one-way ANOVA\n",
        "f_statistic, p_value = f_oneway(quantity, unit_price)\n",
        "\n",
        "# Printing the results\n",
        "print(\"ANOVA results:\")\n",
        "print(\"F-statistic:\", f_statistic)\n",
        "print(\"p-value:\", p_value)\n",
        "\n",
        "# Interpretation of p-value\n",
        "alpha = 0.05\n",
        "if p_value < alpha:\n",
        "    print(\"Reject the null hypothesis. There is significant evidence that at least one of the means is different.\")\n",
        "else:\n",
        "    print(\"Fail to reject the null hypothesis. There is no significant evidence that the means are different.\")\n"
      ],
      "metadata": {
        "colab": {
          "base_uri": "https://localhost:8080/"
        },
        "id": "Y7ycwFFrCUac",
        "outputId": "432a945c-adf8-4aae-b93d-1564e8ab7ff7"
      },
      "execution_count": null,
      "outputs": [
        {
          "output_type": "stream",
          "name": "stdout",
          "text": [
            "ANOVA results:\n",
            "F-statistic: 14.384265022794397\n",
            "p-value: 0.00014911554051757456\n",
            "Reject the null hypothesis. There is significant evidence that at least one of the means is different.\n"
          ]
        }
      ]
    },
    {
      "cell_type": "code",
      "source": [
        "from scipy.stats import chi2_contingency\n",
        "\n",
        "# Extracting the columns from the DataFrame\n",
        "country = df_cat['Country']\n",
        "stock_code = df_cat['StockCode']\n",
        "invoice_date = df_cat['InvoiceDate']\n",
        "\n",
        "# Performing chi-square test\n",
        "chi2_stat, p_value, dof, expected = chi2_contingency(pd.crosstab(country, [stock_code, invoice_date]))\n",
        "\n",
        "# Printing the results\n",
        "print(\"Chi-square test results:\")\n",
        "print(\"Chi-square statistic:\", chi2_stat)\n",
        "print(\"p-value:\", p_value)\n",
        "print(\"Degrees of freedom:\", dof)\n",
        "print(\"Expected frequencies table:\")\n",
        "print(expected)\n",
        "\n",
        "# Interpretation of p-value\n",
        "alpha = 0.05\n",
        "if p_value < alpha:\n",
        "    print(\"Reject the null hypothesis. There is significant evidence of association between the variables.\")\n",
        "else:\n",
        "    print(\"Fail to reject the null hypothesis. There is no significant evidence of association between the variables.\")\n"
      ],
      "metadata": {
        "colab": {
          "base_uri": "https://localhost:8080/"
        },
        "id": "48EwhsxBHPWA",
        "outputId": "050bb16a-2cda-4db2-c1b8-f9eba17e576f"
      },
      "execution_count": null,
      "outputs": [
        {
          "output_type": "stream",
          "name": "stdout",
          "text": [
            "Chi-square test results:\n",
            "Chi-square statistic: 1379624.0531934877\n",
            "p-value: 7.241145498482171e-97\n",
            "Degrees of freedom: 1345132\n",
            "Expected frequencies table:\n",
            "[[2.08340278e-03 2.08340278e-03 2.08340278e-03 ... 2.08340278e-03\n",
            "  2.08340278e-03 2.08340278e-03]\n",
            " [1.50005000e-04 1.50005000e-04 1.50005000e-04 ... 1.50005000e-04\n",
            "  1.50005000e-04 1.50005000e-04]\n",
            " [3.33344445e-05 3.33344445e-05 3.33344445e-05 ... 3.33344445e-05\n",
            "  3.33344445e-05 3.33344445e-05]\n",
            " ...\n",
            " [6.83356112e-04 6.83356112e-04 6.83356112e-04 ... 6.83356112e-04\n",
            "  6.83356112e-04 6.83356112e-04]\n",
            " [8.16693890e-04 8.16693890e-04 8.16693890e-04 ... 8.16693890e-04\n",
            "  8.16693890e-04 8.16693890e-04]\n",
            " [9.35231174e-01 9.35231174e-01 9.35231174e-01 ... 9.35231174e-01\n",
            "  9.35231174e-01 9.35231174e-01]]\n",
            "Reject the null hypothesis. There is significant evidence of association between the variables.\n"
          ]
        }
      ]
    },
    {
      "cell_type": "code",
      "source": [
        "!pip install memory_profiler"
      ],
      "metadata": {
        "id": "dkcVIWIhHcXr",
        "colab": {
          "base_uri": "https://localhost:8080/"
        },
        "outputId": "084d9d36-fa43-40e0-9b43-1c6244b9796b"
      },
      "execution_count": 91,
      "outputs": [
        {
          "output_type": "stream",
          "name": "stdout",
          "text": [
            "Collecting memory_profiler\n",
            "  Downloading memory_profiler-0.61.0-py3-none-any.whl (31 kB)\n",
            "Requirement already satisfied: psutil in /usr/local/lib/python3.10/dist-packages (from memory_profiler) (5.9.5)\n",
            "Installing collected packages: memory_profiler\n",
            "Successfully installed memory_profiler-0.61.0\n"
          ]
        }
      ]
    },
    {
      "cell_type": "code",
      "source": [
        "%memit\n",
        "%time\n",
        "wcssd = []  # Within-Cluster-Sum-Squared-Distance\n",
        "nr_clus = range(1, 11)  # Number of Clusters\n",
        "\n",
        "for k in nr_clus:\n",
        "    kmeans = kmclus(n_clusters=k, init='random', random_state=111)\n",
        "    kmeans.fit(merged_df)\n",
        "    wcssd.append(kmeans.inertia_)\n",
        "\n",
        "\n"
      ],
      "metadata": {
        "colab": {
          "base_uri": "https://localhost:8080/"
        },
        "id": "CI2fv1M5REwe",
        "outputId": "385df422-f68c-4987-8ef6-756fc6d8f645"
      },
      "execution_count": 95,
      "outputs": [
        {
          "output_type": "stream",
          "name": "stdout",
          "text": [
            "peak memory: 754.09 MiB, increment: 0.00 MiB\n",
            "CPU times: user 3 µs, sys: 1e+03 ns, total: 4 µs\n",
            "Wall time: 8.34 µs\n"
          ]
        },
        {
          "output_type": "stream",
          "name": "stderr",
          "text": [
            "/usr/local/lib/python3.10/dist-packages/sklearn/cluster/_kmeans.py:870: FutureWarning: The default value of `n_init` will change from 10 to 'auto' in 1.4. Set the value of `n_init` explicitly to suppress the warning\n",
            "  warnings.warn(\n",
            "/usr/local/lib/python3.10/dist-packages/sklearn/cluster/_kmeans.py:870: FutureWarning: The default value of `n_init` will change from 10 to 'auto' in 1.4. Set the value of `n_init` explicitly to suppress the warning\n",
            "  warnings.warn(\n",
            "/usr/local/lib/python3.10/dist-packages/sklearn/cluster/_kmeans.py:870: FutureWarning: The default value of `n_init` will change from 10 to 'auto' in 1.4. Set the value of `n_init` explicitly to suppress the warning\n",
            "  warnings.warn(\n",
            "/usr/local/lib/python3.10/dist-packages/sklearn/cluster/_kmeans.py:870: FutureWarning: The default value of `n_init` will change from 10 to 'auto' in 1.4. Set the value of `n_init` explicitly to suppress the warning\n",
            "  warnings.warn(\n",
            "/usr/local/lib/python3.10/dist-packages/sklearn/cluster/_kmeans.py:870: FutureWarning: The default value of `n_init` will change from 10 to 'auto' in 1.4. Set the value of `n_init` explicitly to suppress the warning\n",
            "  warnings.warn(\n",
            "/usr/local/lib/python3.10/dist-packages/sklearn/cluster/_kmeans.py:870: FutureWarning: The default value of `n_init` will change from 10 to 'auto' in 1.4. Set the value of `n_init` explicitly to suppress the warning\n",
            "  warnings.warn(\n",
            "/usr/local/lib/python3.10/dist-packages/sklearn/cluster/_kmeans.py:870: FutureWarning: The default value of `n_init` will change from 10 to 'auto' in 1.4. Set the value of `n_init` explicitly to suppress the warning\n",
            "  warnings.warn(\n",
            "/usr/local/lib/python3.10/dist-packages/sklearn/cluster/_kmeans.py:870: FutureWarning: The default value of `n_init` will change from 10 to 'auto' in 1.4. Set the value of `n_init` explicitly to suppress the warning\n",
            "  warnings.warn(\n",
            "/usr/local/lib/python3.10/dist-packages/sklearn/cluster/_kmeans.py:870: FutureWarning: The default value of `n_init` will change from 10 to 'auto' in 1.4. Set the value of `n_init` explicitly to suppress the warning\n",
            "  warnings.warn(\n",
            "/usr/local/lib/python3.10/dist-packages/sklearn/cluster/_kmeans.py:870: FutureWarning: The default value of `n_init` will change from 10 to 'auto' in 1.4. Set the value of `n_init` explicitly to suppress the warning\n",
            "  warnings.warn(\n"
          ]
        }
      ]
    },
    {
      "cell_type": "code",
      "source": [],
      "metadata": {
        "id": "StRopdh_2-UI"
      },
      "execution_count": null,
      "outputs": []
    }
  ],
  "metadata": {
    "colab": {
      "provenance": []
    },
    "kernelspec": {
      "display_name": "Python 3 (ipykernel)",
      "language": "python",
      "name": "python3"
    },
    "language_info": {
      "codemirror_mode": {
        "name": "ipython",
        "version": 3
      },
      "file_extension": ".py",
      "mimetype": "text/x-python",
      "name": "python",
      "nbconvert_exporter": "python",
      "pygments_lexer": "ipython3",
      "version": "3.11.5"
    }
  },
  "nbformat": 4,
  "nbformat_minor": 0
}